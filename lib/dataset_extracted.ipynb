{
 "cells": [
  {
   "cell_type": "code",
   "execution_count": 1,
   "metadata": {},
   "outputs": [],
   "source": [
    "import torch\n",
    "from torch.utils.data import DataLoader\n",
    "import sentencepiece as spm\n",
    "import transforms\n",
    "from dataset_extracted import ExtractedFeatureDataset\n",
    "import os"
   ]
  },
  {
   "cell_type": "code",
   "execution_count": 2,
   "metadata": {},
   "outputs": [],
   "source": [
    "path = '../MVAD/I3D_rgb/'\n",
    "train_corpus_path = '../MVAD/corpus_M-VAD_train.txt'\n",
    "test_corpus_path = '../MVAD/corpus_M-VAD_test.txt'\n",
    "train_path = os.path.join(path, 'train')\n",
    "test_path = os.path.join(path, 'test')\n",
    "tokenizer_file = 'tokenizer.model'\n",
    "inp_max_sequence_size = 256\n",
    "tar_max_sequence_size = 360"
   ]
  },
  {
   "cell_type": "code",
   "execution_count": 3,
   "metadata": {},
   "outputs": [
    {
     "data": {
      "text/plain": [
       "True"
      ]
     },
     "execution_count": 3,
     "metadata": {},
     "output_type": "execute_result"
    }
   ],
   "source": [
    "sp = spm.SentencePieceProcessor()\n",
    "sp.Load(tokenizer_file)"
   ]
  },
  {
   "cell_type": "code",
   "execution_count": 5,
   "metadata": {},
   "outputs": [
    {
     "data": {
      "text/plain": [
       "[1, 680, 1934, 771, 2]"
      ]
     },
     "execution_count": 5,
     "metadata": {},
     "output_type": "execute_result"
    }
   ],
   "source": [
    "[sp.PieceToId('<s>')] + sp.EncodeAsIds('I love you') + [sp.PieceToId('</s>')]"
   ]
  },
  {
   "cell_type": "code",
   "execution_count": 6,
   "metadata": {},
   "outputs": [
    {
     "name": "stdout",
     "output_type": "stream",
     "text": [
      "['▁', '<', 's', '>', '▁I', '▁love', '▁you', '▁', '</', 's', '>']\n",
      "[22, 3, 5, 3, 680, 1934, 771, 22, 3, 5, 3]\n"
     ]
    }
   ],
   "source": [
    "print(sp.EncodeAsPieces(' <s> I love you </s> '))\n",
    "print(sp.EncodeAsIds(' <s> I love you </s> '))"
   ]
  },
  {
   "cell_type": "code",
   "execution_count": 7,
   "metadata": {},
   "outputs": [],
   "source": [
    "feature_transform = transforms.Compose([\n",
    "    transforms.FeaturePadding(inp_max_sequence_size)\n",
    "])\n",
    "caption_transform = transforms.Compose([\n",
    "    transforms.CaptionPadding(tar_max_sequence_size, sp.PieceToId('<PAD>'))\n",
    "])"
   ]
  },
  {
   "cell_type": "code",
   "execution_count": 8,
   "metadata": {},
   "outputs": [],
   "source": [
    "train_dataset = ExtractedFeatureDataset(train_path, train_corpus_path, 256, 360, sp, feature_transform, caption_transform)\n",
    "test_dataset = ExtractedFeatureDataset(test_path, test_corpus_path, 256, 360, sp, feature_transform, caption_transform)"
   ]
  },
  {
   "cell_type": "code",
   "execution_count": 9,
   "metadata": {},
   "outputs": [],
   "source": [
    "train_dataloader = DataLoader(train_dataset, batch_size=4, shuffle=True, num_workers=2)\n",
    "test_dataloader = DataLoader(test_dataset, batch_size=4, shuffle=False, num_workers=2)"
   ]
  },
  {
   "cell_type": "code",
   "execution_count": 11,
   "metadata": {},
   "outputs": [],
   "source": [
    "sample = next(iter(test_dataloader))"
   ]
  },
  {
   "cell_type": "code",
   "execution_count": 42,
   "metadata": {},
   "outputs": [
    {
     "data": {
      "text/plain": [
       "tensor([[0.0319, 0.0138, 0.0786,  ..., 0.0933, 0.4781, 0.0654],\n",
       "        [0.0616, 0.0155, 0.0997,  ..., 0.1578, 0.5022, 0.0849],\n",
       "        [0.0740, 0.0111, 0.1320,  ..., 0.2436, 0.4955, 0.1102],\n",
       "        ...,\n",
       "        [0.0000, 0.0000, 0.0000,  ..., 0.0000, 0.0000, 0.0000],\n",
       "        [0.0000, 0.0000, 0.0000,  ..., 0.0000, 0.0000, 0.0000],\n",
       "        [0.0000, 0.0000, 0.0000,  ..., 0.0000, 0.0000, 0.0000]])"
      ]
     },
     "execution_count": 42,
     "metadata": {},
     "output_type": "execute_result"
    }
   ],
   "source": [
    "sample[0][0]"
   ]
  },
  {
   "cell_type": "code",
   "execution_count": null,
   "metadata": {},
   "outputs": [],
   "source": []
  }
 ],
 "metadata": {
  "kernelspec": {
   "display_name": "Python 3",
   "language": "python",
   "name": "python3"
  },
  "language_info": {
   "codemirror_mode": {
    "name": "ipython",
    "version": 3
   },
   "file_extension": ".py",
   "mimetype": "text/x-python",
   "name": "python",
   "nbconvert_exporter": "python",
   "pygments_lexer": "ipython3",
   "version": "3.7.3"
  }
 },
 "nbformat": 4,
 "nbformat_minor": 4
}
