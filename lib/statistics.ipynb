{
 "cells": [
  {
   "cell_type": "code",
   "execution_count": 1,
   "metadata": {},
   "outputs": [],
   "source": [
    "import torch\n",
    "from torch.utils.data import DataLoader\n",
    "from models.transformer import Transformer, create_look_ahead_mask\n",
    "from dataset_extracted import ExtractedFeatureDataset\n",
    "import sentencepiece as spm\n",
    "import transforms\n",
    "import matplotlib.pyplot as plt\n",
    "import numpy as np"
   ]
  },
  {
   "cell_type": "code",
   "execution_count": 16,
   "metadata": {},
   "outputs": [],
   "source": [
    "train_feature_path = '../MVAD/I3D_rgb_kinetics/train'\n",
    "train_corpus_file = '../MVAD/corpus_M-VAD_train.txt'\n",
    "test_feature_path = '../MVAD/I3D_rgb_kinetics/test'\n",
    "test_corpus_file = '../MVAD/corpus_M-VAD_test.txt'\n",
    "tokenizer_file = 'tokenizer.model'\n",
    "inp_max_seq_length = 256\n",
    "tar_max_seq_length = 360"
   ]
  },
  {
   "cell_type": "code",
   "execution_count": 3,
   "metadata": {},
   "outputs": [
    {
     "data": {
      "text/plain": [
       "True"
      ]
     },
     "execution_count": 3,
     "metadata": {},
     "output_type": "execute_result"
    }
   ],
   "source": [
    "sp = spm.SentencePieceProcessor()\n",
    "sp.Load(tokenizer_file)"
   ]
  },
  {
   "cell_type": "code",
   "execution_count": 4,
   "metadata": {},
   "outputs": [],
   "source": [
    "feature_transform = transforms.Compose([\n",
    "    transforms.FeaturePadding(inp_max_seq_length)\n",
    "])\n",
    "caption_transform = transforms.Compose([\n",
    "    transforms.CaptionPadding(tar_max_seq_length, sp.PieceToId('<PAD>'))\n",
    "])"
   ]
  },
  {
   "cell_type": "code",
   "execution_count": 17,
   "metadata": {},
   "outputs": [],
   "source": [
    "train_dataset = ExtractedFeatureDataset(train_feature_path, train_corpus_file, 256, 360, sp, feature_transform, caption_transform)\n",
    "train_dataloader = DataLoader(train_dataset, 1)\n",
    "\n",
    "test_dataset = ExtractedFeatureDataset(test_feature_path, test_corpus_file, 256, 360, sp, feature_transform, caption_transform)\n",
    "test_dataloader = DataLoader(test_dataset, 1)"
   ]
  },
  {
   "cell_type": "code",
   "execution_count": 6,
   "metadata": {},
   "outputs": [],
   "source": [
    "train_video_length = []\n",
    "train_corpus_length = []\n",
    "\n",
    "test_video_length = []\n",
    "test_corpus_length = []"
   ]
  },
  {
   "cell_type": "code",
   "execution_count": 7,
   "metadata": {},
   "outputs": [],
   "source": [
    "for batch, sample in enumerate(train_dataloader, start=1):\n",
    "    inp_key_padding = sample[3]\n",
    "    inp_length = inp_max_seq_length - inp_key_padding.sum()\n",
    "    tar_key_padding = sample[4]\n",
    "    tar_length = tar_max_seq_length - tar_key_padding.sum()\n",
    "    train_video_length.append(int(inp_length))\n",
    "    train_corpus_length.append(int(tar_length))\n",
    "    \n",
    "for batch, sample in enumerate(test_dataloader, start=1):\n",
    "    inp_key_padding = sample[3]\n",
    "    inp_length = inp_max_seq_length - inp_key_padding.sum()\n",
    "    tar_key_padding = sample[4]\n",
    "    tar_length = tar_max_seq_length - tar_key_padding.sum()\n",
    "    test_video_length.append(int(inp_length))\n",
    "    test_corpus_length.append(int(tar_length))"
   ]
  },
  {
   "cell_type": "code",
   "execution_count": 25,
   "metadata": {},
   "outputs": [
    {
     "name": "stdout",
     "output_type": "stream",
     "text": [
      "max: 222 min: 1 average: 18.59 std: 7.5554\n",
      "90% percentile: 26.0\n",
      "5% percentile: 12.0 95% percentile: 30.0\n"
     ]
    },
    {
     "data": {
      "image/png": "[encoded data removed]",
      "text/plain": [
       "<Figure size 432x288 with 1 Axes>"
      ]
     },
     "metadata": {
      "needs_background": "light"
     },
     "output_type": "display_data"
    }
   ],
   "source": [
    "plt.hist(train_video_length, bins=100)\n",
    "print('max: {} min: {} average: {:.2f} std: {:.4f}'.format(max(train_video_length), min(train_video_length), np.mean(train_video_length), np.std(train_video_length)))\n",
    "print('90% percentile: {}'.format(np.percentile(train_video_length, 90)))\n",
    "print('5% percentile: {} 95% percentile: {}'.format(np.percentile(train_video_length, 5), np.percentile(train_video_length, 95)))"
   ]
  },
  {
   "cell_type": "code",
   "execution_count": 21,
   "metadata": {},
   "outputs": [
    {
     "name": "stdout",
     "output_type": "stream",
     "text": [
      "max: 338 min: 5 average: 17.60 std: 11.1420\n",
      "5% percentile: 8.0 95% percentile: 35.0\n"
     ]
    },
    {
     "data": {
      "image/png": "[encoded data removed]",
      "text/plain": [
       "<Figure size 432x288 with 1 Axes>"
      ]
     },
     "metadata": {
      "needs_background": "light"
     },
     "output_type": "display_data"
    }
   ],
   "source": [
    "plt.hist(train_corpus_length, bins=100);\n",
    "print('max: {} min: {} average: {:.2f} std: {:.4f}'.format(max(train_corpus_length), min(train_corpus_length), np.mean(train_corpus_length), np.std(train_corpus_length)))\n",
    "print('5% percentile: {} 95% percentile: {}'.format(np.percentile(train_corpus_length, 5), np.percentile(train_corpus_length, 95)))"
   ]
  },
  {
   "cell_type": "code",
   "execution_count": 22,
   "metadata": {},
   "outputs": [
    {
     "name": "stdout",
     "output_type": "stream",
     "text": [
      "max: 165 min: 9 average: 18.83 std: 8.9561\n",
      "5% percentile: 12.0 95% percentile: 33.0\n"
     ]
    },
    {
     "data": {
      "image/png": "[encoded data removed]",
      "text/plain": [
       "<Figure size 432x288 with 1 Axes>"
      ]
     },
     "metadata": {
      "needs_background": "light"
     },
     "output_type": "display_data"
    }
   ],
   "source": [
    "plt.hist(test_video_length, bins=100);\n",
    "print('max: {} min: {} average: {:.2f} std: {:.4f}'.format(max(test_video_length), min(test_video_length), np.mean(test_video_length), np.std(test_video_length)))\n",
    "print('5% percentile: {} 95% percentile: {}'.format(np.percentile(test_video_length, 5), np.percentile(test_video_length, 95)))"
   ]
  },
  {
   "cell_type": "code",
   "execution_count": 24,
   "metadata": {},
   "outputs": [
    {
     "name": "stdout",
     "output_type": "stream",
     "text": [
      "max: 249 min: 6 average: 18.20 std: 13.1777\n",
      "5% percentile: 7.0 95% percentile: 41.0\n"
     ]
    },
    {
     "data": {
      "image/png": "[encoded data removed]",
      "text/plain": [
       "<Figure size 432x288 with 1 Axes>"
      ]
     },
     "metadata": {
      "needs_background": "light"
     },
     "output_type": "display_data"
    }
   ],
   "source": [
    "plt.hist(test_corpus_length, bins=100);\n",
    "print('max: {} min: {} average: {:.2f} std: {:.4f}'.format(max(test_corpus_length), min(test_corpus_length), np.mean(test_corpus_length), np.std(test_corpus_length)))\n",
    "print('5% percentile: {} 95% percentile: {}'.format(np.percentile(test_corpus_length, 5), np.percentile(test_corpus_length, 95)))"
   ]
  },
  {
   "cell_type": "code",
   "execution_count": 11,
   "metadata": {},
   "outputs": [],
   "source": [
    "f = open('../MVAD/train_fine', 'w+')\n",
    "for batch, sample in enumerate(train_dataloader, start=1):\n",
    "    inp_key_padding = sample[3]\n",
    "    inp_length = inp_max_seq_length - inp_key_padding.sum()\n",
    "    tar_key_padding = sample[4]\n",
    "    tar_length = tar_max_seq_length - tar_key_padding.sum()\n",
    "    if 7 < inp_length < 50 and 7 < tar_length < 50:\n",
    "        feature_file = sample[2]\n",
    "        f.write(feature_file[0] + '\\n')\n",
    "f.close()"
   ]
  },
  {
   "cell_type": "code",
   "execution_count": 18,
   "metadata": {},
   "outputs": [],
   "source": [
    "f = open('../MVAD/test_fine', 'w+')\n",
    "for batch, sample in enumerate(test_dataloader, start=1):\n",
    "    inp_key_padding = sample[3]\n",
    "    inp_length = inp_max_seq_length - inp_key_padding.sum()\n",
    "    tar_key_padding = sample[4]\n",
    "    tar_length = tar_max_seq_length - tar_key_padding.sum()\n",
    "    if 7 < inp_length < 50 and 7 < tar_length < 50:\n",
    "        feature_file = sample[2]\n",
    "        f.write(feature_file[0] + '\\n')\n",
    "        \n",
    "f.close()"
   ]
  },
  {
   "cell_type": "code",
   "execution_count": null,
   "metadata": {},
   "outputs": [],
   "source": [
    "# Feature: 7 ~ 50\n",
    "# Caption: 7 ~ 50"
   ]
  }
 ],
 "metadata": {
  "kernelspec": {
   "display_name": "Python 3",
   "language": "python",
   "name": "python3"
  },
  "language_info": {
   "codemirror_mode": {
    "name": "ipython",
    "version": 3
   },
   "file_extension": ".py",
   "mimetype": "text/x-python",
   "name": "python",
   "nbconvert_exporter": "python",
   "pygments_lexer": "ipython3",
   "version": "3.7.3"
  }
 },
 "nbformat": 4,
 "nbformat_minor": 4
}
