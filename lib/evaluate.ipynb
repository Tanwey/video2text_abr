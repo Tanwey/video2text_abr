{
 "cells": [
  {
   "cell_type": "code",
   "execution_count": 1,
   "metadata": {},
   "outputs": [],
   "source": [
    "import torch\n",
    "from torch.utils.data import DataLoader\n",
    "from models.transformer import Transformer, create_look_ahead_mask\n",
    "from dataset_extracted import ExtractedFeatureDataset\n",
    "import sentencepiece as spm\n",
    "import transforms\n",
    "from evaluate import Captioner"
   ]
  },
  {
   "cell_type": "code",
   "execution_count": 2,
   "metadata": {},
   "outputs": [],
   "source": [
    "test_feature_path = '../MVAD/I3D_rgb/test'\n",
    "test_corpus_file = '../MVAD/corpus_M-VAD_test.txt'\n",
    "tokenizer_file = 'tokenizer.model'\n",
    "model_weight_file = '../checkpoint/20190812135219/2'\n",
    "inp_max_seq_length = 256\n",
    "tar_max_seq_length = 360\n",
    "tar_vocab_size = 5000\n",
    "d_model = 1024\n",
    "num_heads = 8\n",
    "num_layers = 6\n",
    "encoder_num_layers = 2\n",
    "decoder_num_layers = 4\n",
    "dff = 2048\n",
    "dropout = 0.1\n",
    "max_seq_length = 512  # For positional encoding"
   ]
  },
  {
   "cell_type": "code",
   "execution_count": 3,
   "metadata": {},
   "outputs": [
    {
     "data": {
      "text/plain": [
       "True"
      ]
     },
     "execution_count": 3,
     "metadata": {},
     "output_type": "execute_result"
    }
   ],
   "source": [
    "sp = spm.SentencePieceProcessor()\n",
    "sp.Load(tokenizer_file)"
   ]
  },
  {
   "cell_type": "code",
   "execution_count": 4,
   "metadata": {},
   "outputs": [],
   "source": [
    "feature_transform = transforms.Compose([\n",
    "    transforms.FeaturePadding(inp_max_seq_length)\n",
    "])\n",
    "caption_transform = transforms.Compose([\n",
    "    transforms.CaptionPadding(tar_max_seq_length, sp.PieceToId('<PAD>'))\n",
    "])"
   ]
  },
  {
   "cell_type": "code",
   "execution_count": 5,
   "metadata": {},
   "outputs": [],
   "source": [
    "dataset = ExtractedFeatureDataset(test_feature_path, test_corpus_file, inp_max_seq_length, tar_max_seq_length, sp, feature_transform=feature_transform, caption_transform=caption_transform)\n",
    "dataloader = DataLoader(dataset, batch_size=1, shuffle=True)"
   ]
  },
  {
   "cell_type": "code",
   "execution_count": 6,
   "metadata": {
    "collapsed": true,
    "jupyter": {
     "outputs_hidden": true
    }
   },
   "outputs": [
    {
     "data": {
      "text/plain": [
       "Transformer(\n",
       "  (pe): PositionalEncoder()\n",
       "  (encoder): TransformerEncoder(\n",
       "    (encoder_layers): ModuleList(\n",
       "      (encoder_layer1): TransformerEncoderLayer(\n",
       "        (mha): MultiheadAttention(\n",
       "          (out_proj): Linear(in_features=1024, out_features=1024, bias=True)\n",
       "        )\n",
       "        (ff): FeedForward(\n",
       "          (linear1): Linear(in_features=1024, out_features=2048, bias=True)\n",
       "          (linear2): Linear(in_features=2048, out_features=1024, bias=True)\n",
       "          (dropout): Dropout(p=0.1)\n",
       "        )\n",
       "        (an1): AddNorm(\n",
       "          (dropout): Dropout(p=0.1)\n",
       "          (layernorm): LayerNorm(torch.Size([1024]), eps=1e-05, elementwise_affine=True)\n",
       "        )\n",
       "        (an2): AddNorm(\n",
       "          (dropout): Dropout(p=0.1)\n",
       "          (layernorm): LayerNorm(torch.Size([1024]), eps=1e-05, elementwise_affine=True)\n",
       "        )\n",
       "      )\n",
       "      (encoder_layer2): TransformerEncoderLayer(\n",
       "        (mha): MultiheadAttention(\n",
       "          (out_proj): Linear(in_features=1024, out_features=1024, bias=True)\n",
       "        )\n",
       "        (ff): FeedForward(\n",
       "          (linear1): Linear(in_features=1024, out_features=2048, bias=True)\n",
       "          (linear2): Linear(in_features=2048, out_features=1024, bias=True)\n",
       "          (dropout): Dropout(p=0.1)\n",
       "        )\n",
       "        (an1): AddNorm(\n",
       "          (dropout): Dropout(p=0.1)\n",
       "          (layernorm): LayerNorm(torch.Size([1024]), eps=1e-05, elementwise_affine=True)\n",
       "        )\n",
       "        (an2): AddNorm(\n",
       "          (dropout): Dropout(p=0.1)\n",
       "          (layernorm): LayerNorm(torch.Size([1024]), eps=1e-05, elementwise_affine=True)\n",
       "        )\n",
       "      )\n",
       "    )\n",
       "  )\n",
       "  (word_embedding): Embedding(5000, 1024)\n",
       "  (decoder): TransformerDecoder(\n",
       "    (decoder_layers): ModuleList(\n",
       "      (decoder_layer1): TransformerDecoderLayer(\n",
       "        (mhas1): MultiheadAttention(\n",
       "          (out_proj): Linear(in_features=1024, out_features=1024, bias=True)\n",
       "        )\n",
       "        (mhas2): MultiheadAttention(\n",
       "          (out_proj): Linear(in_features=1024, out_features=1024, bias=True)\n",
       "        )\n",
       "        (an1): AddNorm(\n",
       "          (dropout): Dropout(p=0.1)\n",
       "          (layernorm): LayerNorm(torch.Size([1024]), eps=1e-05, elementwise_affine=True)\n",
       "        )\n",
       "        (an2): AddNorm(\n",
       "          (dropout): Dropout(p=0.1)\n",
       "          (layernorm): LayerNorm(torch.Size([1024]), eps=1e-05, elementwise_affine=True)\n",
       "        )\n",
       "        (an3): AddNorm(\n",
       "          (dropout): Dropout(p=0.1)\n",
       "          (layernorm): LayerNorm(torch.Size([1024]), eps=1e-05, elementwise_affine=True)\n",
       "        )\n",
       "        (ff): FeedForward(\n",
       "          (linear1): Linear(in_features=1024, out_features=2048, bias=True)\n",
       "          (linear2): Linear(in_features=2048, out_features=1024, bias=True)\n",
       "          (dropout): Dropout(p=0.1)\n",
       "        )\n",
       "      )\n",
       "      (decoder_layer2): TransformerDecoderLayer(\n",
       "        (mhas1): MultiheadAttention(\n",
       "          (out_proj): Linear(in_features=1024, out_features=1024, bias=True)\n",
       "        )\n",
       "        (mhas2): MultiheadAttention(\n",
       "          (out_proj): Linear(in_features=1024, out_features=1024, bias=True)\n",
       "        )\n",
       "        (an1): AddNorm(\n",
       "          (dropout): Dropout(p=0.1)\n",
       "          (layernorm): LayerNorm(torch.Size([1024]), eps=1e-05, elementwise_affine=True)\n",
       "        )\n",
       "        (an2): AddNorm(\n",
       "          (dropout): Dropout(p=0.1)\n",
       "          (layernorm): LayerNorm(torch.Size([1024]), eps=1e-05, elementwise_affine=True)\n",
       "        )\n",
       "        (an3): AddNorm(\n",
       "          (dropout): Dropout(p=0.1)\n",
       "          (layernorm): LayerNorm(torch.Size([1024]), eps=1e-05, elementwise_affine=True)\n",
       "        )\n",
       "        (ff): FeedForward(\n",
       "          (linear1): Linear(in_features=1024, out_features=2048, bias=True)\n",
       "          (linear2): Linear(in_features=2048, out_features=1024, bias=True)\n",
       "          (dropout): Dropout(p=0.1)\n",
       "        )\n",
       "      )\n",
       "      (decoder_layer3): TransformerDecoderLayer(\n",
       "        (mhas1): MultiheadAttention(\n",
       "          (out_proj): Linear(in_features=1024, out_features=1024, bias=True)\n",
       "        )\n",
       "        (mhas2): MultiheadAttention(\n",
       "          (out_proj): Linear(in_features=1024, out_features=1024, bias=True)\n",
       "        )\n",
       "        (an1): AddNorm(\n",
       "          (dropout): Dropout(p=0.1)\n",
       "          (layernorm): LayerNorm(torch.Size([1024]), eps=1e-05, elementwise_affine=True)\n",
       "        )\n",
       "        (an2): AddNorm(\n",
       "          (dropout): Dropout(p=0.1)\n",
       "          (layernorm): LayerNorm(torch.Size([1024]), eps=1e-05, elementwise_affine=True)\n",
       "        )\n",
       "        (an3): AddNorm(\n",
       "          (dropout): Dropout(p=0.1)\n",
       "          (layernorm): LayerNorm(torch.Size([1024]), eps=1e-05, elementwise_affine=True)\n",
       "        )\n",
       "        (ff): FeedForward(\n",
       "          (linear1): Linear(in_features=1024, out_features=2048, bias=True)\n",
       "          (linear2): Linear(in_features=2048, out_features=1024, bias=True)\n",
       "          (dropout): Dropout(p=0.1)\n",
       "        )\n",
       "      )\n",
       "      (decoder_layer4): TransformerDecoderLayer(\n",
       "        (mhas1): MultiheadAttention(\n",
       "          (out_proj): Linear(in_features=1024, out_features=1024, bias=True)\n",
       "        )\n",
       "        (mhas2): MultiheadAttention(\n",
       "          (out_proj): Linear(in_features=1024, out_features=1024, bias=True)\n",
       "        )\n",
       "        (an1): AddNorm(\n",
       "          (dropout): Dropout(p=0.1)\n",
       "          (layernorm): LayerNorm(torch.Size([1024]), eps=1e-05, elementwise_affine=True)\n",
       "        )\n",
       "        (an2): AddNorm(\n",
       "          (dropout): Dropout(p=0.1)\n",
       "          (layernorm): LayerNorm(torch.Size([1024]), eps=1e-05, elementwise_affine=True)\n",
       "        )\n",
       "        (an3): AddNorm(\n",
       "          (dropout): Dropout(p=0.1)\n",
       "          (layernorm): LayerNorm(torch.Size([1024]), eps=1e-05, elementwise_affine=True)\n",
       "        )\n",
       "        (ff): FeedForward(\n",
       "          (linear1): Linear(in_features=1024, out_features=2048, bias=True)\n",
       "          (linear2): Linear(in_features=2048, out_features=1024, bias=True)\n",
       "          (dropout): Dropout(p=0.1)\n",
       "        )\n",
       "      )\n",
       "    )\n",
       "  )\n",
       "  (emb2voc): Linear(in_features=1024, out_features=5000, bias=True)\n",
       ")"
      ]
     },
     "execution_count": 6,
     "metadata": {},
     "output_type": "execute_result"
    }
   ],
   "source": [
    "model = Transformer(tar_vocab_size, d_model, num_heads, encoder_num_layers, decoder_num_layers, dff, dropout, max_seq_length)\n",
    "state_dict = torch.load(model_weight_file)\n",
    "model.load_state_dict(state_dict['model_state_dict'], strict=True)\n",
    "model.eval()"
   ]
  },
  {
   "cell_type": "code",
   "execution_count": 7,
   "metadata": {},
   "outputs": [
    {
     "name": "stdout",
     "output_type": "stream",
     "text": [
      "video: ('UGLY_TRUTH_DVS540.avi',) caption origin: SOMEONE gives SOMEONE a sultry look as they embrace. Their faces draw close together. caption predict: SOMEONE', SOMEONE' find his her head at the appear other of asts.\n",
      "video: ('BIG_MOMMAS_LIKE_FATHER_LIKE_SON_DVS441.avi',) caption origin: A short distance down a street, a sedan turns on its headlights and crawls toward the promenade. caption predict: SOMEONE freezes, SOMEONE, SOMEONE and SOMEONE, and SOMEONE' other SOMEONE and SOMEONE's heads his her eyes. wide at the other head. as he turns to the ground.\n",
      "video: ('FRIENDS_WITH_BENEFITS_DVS141.avi',) caption origin: SOMEONE totters naked to the bathroom with one hand cupped over his crotch. He leaves the door open as he steps out of view. In bed, SOMEONE puffs out a breath, then frowns. caption predict: SOMEONE shifts in his.. A man twotwee Ms a photo from the floor.\n",
      "video: ('SPARKLE_2012_DVS480.avi',) caption origin: SOMEONE leaps on his back. SOMEONE grabs a poker from the fireplace. He throws SOMEONE to the ground and looms over her. caption predict: SOMEONE both back to, SOMEONE, SOMEONE, and SOMEONE' hands SOMEONE and SOMEONE's head.\n",
      "video: ('PUBLIC_ENEMIES_DVS162.avi',) caption origin: FBI field office, a chubby agent shows a jacket. caption predict: SOMEONE' leaves over the.\n",
      "video: ('INSIDE_MAN_DVS204.avi',) caption origin: SOMEONE's blue eyes fix on SOMEONE caption predict: SOMEONE in. SOMEONE's his eyes SOMEONE's.\n",
      "video: ('PUBLIC_ENEMIES_DVS139.avi',) caption origin: Later, SOMEONE and SOMEONE stride through the club's foyer. caption predict: SOMEONE as leaves over the the ground in, who, SOMEONE's heads his head.\n",
      "video: ('THE_DESCENDANTS_DVS631.avi',) caption origin: One of his fingers twitches and he awakes. caption predict: SOMEONE' locks.\n",
      "video: ('INSIDE_MAN_DVS152.avi',) caption origin: Robbers collect the food. caption predict: SOMEONE' locks the the toward back, SOMEONE's back.\n",
      "video: ('SPARKLE_2012_DVS436.avi',) caption origin: Behind her, SOMEONE raises his belt and brings it down hard on her back. caption predict: SOMEONE', SOMEONE' the boys, and SOMEONE's head and SOMEONE shakes her head.\n"
     ]
    }
   ],
   "source": [
    "captioner = Captioner(model, sp, tar_max_seq_length)\n",
    "captioner.caption_video_from_dataloader(dataloader, count=10)"
   ]
  },
  {
   "cell_type": "code",
   "execution_count": null,
   "metadata": {},
   "outputs": [],
   "source": []
  },
  {
   "cell_type": "code",
   "execution_count": null,
   "metadata": {},
   "outputs": [],
   "source": []
  }
 ],
 "metadata": {
  "kernelspec": {
   "display_name": "Python 3",
   "language": "python",
   "name": "python3"
  },
  "language_info": {
   "codemirror_mode": {
    "name": "ipython",
    "version": 3
   },
   "file_extension": ".py",
   "mimetype": "text/x-python",
   "name": "python",
   "nbconvert_exporter": "python",
   "pygments_lexer": "ipython3",
   "version": "3.7.3"
  }
 },
 "nbformat": 4,
 "nbformat_minor": 4
}
