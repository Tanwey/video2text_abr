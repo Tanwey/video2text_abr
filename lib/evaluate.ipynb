{
 "cells": [
  {
   "cell_type": "code",
   "execution_count": 20,
   "metadata": {},
   "outputs": [],
   "source": [
    "import torch\n",
    "from torch.utils.data import DataLoader\n",
    "from models.transformer import Transformer, create_look_ahead_mask\n",
    "from dataset_extracted import ExtractedFeatureDataset\n",
    "import sentencepiece as spm\n",
    "import transforms\n",
    "from evaluate import Captioner\n",
    "import os"
   ]
  },
  {
   "cell_type": "code",
   "execution_count": 29,
   "metadata": {},
   "outputs": [],
   "source": [
    "test_feature_path = '../MVAD/I3D_rgb_kinetics/test'\n",
    "with open('../MVAD/test_fine') as f:\n",
    "    files = f.readlines()\n",
    "    feature_files = list(map(lambda file: os.path.join(test_feature_path, str.strip(file) + '.npy'), files))"
   ]
  },
  {
   "cell_type": "code",
   "execution_count": 30,
   "metadata": {},
   "outputs": [],
   "source": [
    "test_corpus_file = '../MVAD/corpus_M-VAD_test.txt'\n",
    "tokenizer_file = 'tokenizer.model'\n",
    "model_weight_file = '../checkpoint/20190812135219/20'\n",
    "inp_max_seq_length = 50\n",
    "tar_max_seq_length = 50\n",
    "tar_vocab_size = 5000\n",
    "d_model = 1024\n",
    "num_heads = 8\n",
    "num_layers = 6\n",
    "encoder_num_layers = 2\n",
    "decoder_num_layers = 4\n",
    "dff = 2048\n",
    "dropout = 0.1\n",
    "max_seq_length = 80  # For positional encoding"
   ]
  },
  {
   "cell_type": "code",
   "execution_count": 31,
   "metadata": {},
   "outputs": [
    {
     "data": {
      "text/plain": [
       "True"
      ]
     },
     "execution_count": 31,
     "metadata": {},
     "output_type": "execute_result"
    }
   ],
   "source": [
    "sp = spm.SentencePieceProcessor()\n",
    "sp.Load(tokenizer_file)"
   ]
  },
  {
   "cell_type": "code",
   "execution_count": 32,
   "metadata": {},
   "outputs": [],
   "source": [
    "feature_transform = transforms.Compose([\n",
    "    transforms.FeaturePadding(inp_max_seq_length)\n",
    "])\n",
    "caption_transform = transforms.Compose([\n",
    "    transforms.CaptionPadding(tar_max_seq_length, sp.PieceToId('<PAD>'))\n",
    "])"
   ]
  },
  {
   "cell_type": "code",
   "execution_count": 33,
   "metadata": {},
   "outputs": [],
   "source": [
    "dataset = ExtractedFeatureDataset(None, test_corpus_file, inp_max_seq_length, tar_max_seq_length, sp, feature_transform=feature_transform, caption_transform=caption_transform, feature_files=feature_files)\n",
    "dataloader = DataLoader(dataset, batch_size=1, shuffle=True)"
   ]
  },
  {
   "cell_type": "code",
   "execution_count": 34,
   "metadata": {
    "collapsed": true,
    "jupyter": {
     "outputs_hidden": true
    }
   },
   "outputs": [
    {
     "data": {
      "text/plain": [
       "Transformer(\n",
       "  (pe): PositionalEncoder()\n",
       "  (encoder): TransformerEncoder(\n",
       "    (encoder_layers): ModuleList(\n",
       "      (encoder_layer1): TransformerEncoderLayer(\n",
       "        (mha): MultiheadAttention(\n",
       "          (out_proj): Linear(in_features=1024, out_features=1024, bias=True)\n",
       "        )\n",
       "        (ff): FeedForward(\n",
       "          (linear1): Linear(in_features=1024, out_features=2048, bias=True)\n",
       "          (linear2): Linear(in_features=2048, out_features=1024, bias=True)\n",
       "          (dropout): Dropout(p=0.1)\n",
       "        )\n",
       "        (an1): AddNorm(\n",
       "          (dropout): Dropout(p=0.1)\n",
       "          (layernorm): LayerNorm(torch.Size([1024]), eps=1e-05, elementwise_affine=True)\n",
       "        )\n",
       "        (an2): AddNorm(\n",
       "          (dropout): Dropout(p=0.1)\n",
       "          (layernorm): LayerNorm(torch.Size([1024]), eps=1e-05, elementwise_affine=True)\n",
       "        )\n",
       "      )\n",
       "      (encoder_layer2): TransformerEncoderLayer(\n",
       "        (mha): MultiheadAttention(\n",
       "          (out_proj): Linear(in_features=1024, out_features=1024, bias=True)\n",
       "        )\n",
       "        (ff): FeedForward(\n",
       "          (linear1): Linear(in_features=1024, out_features=2048, bias=True)\n",
       "          (linear2): Linear(in_features=2048, out_features=1024, bias=True)\n",
       "          (dropout): Dropout(p=0.1)\n",
       "        )\n",
       "        (an1): AddNorm(\n",
       "          (dropout): Dropout(p=0.1)\n",
       "          (layernorm): LayerNorm(torch.Size([1024]), eps=1e-05, elementwise_affine=True)\n",
       "        )\n",
       "        (an2): AddNorm(\n",
       "          (dropout): Dropout(p=0.1)\n",
       "          (layernorm): LayerNorm(torch.Size([1024]), eps=1e-05, elementwise_affine=True)\n",
       "        )\n",
       "      )\n",
       "    )\n",
       "  )\n",
       "  (word_embedding): Embedding(5000, 1024)\n",
       "  (decoder): TransformerDecoder(\n",
       "    (decoder_layers): ModuleList(\n",
       "      (decoder_layer1): TransformerDecoderLayer(\n",
       "        (mhas1): MultiheadAttention(\n",
       "          (out_proj): Linear(in_features=1024, out_features=1024, bias=True)\n",
       "        )\n",
       "        (mhas2): MultiheadAttention(\n",
       "          (out_proj): Linear(in_features=1024, out_features=1024, bias=True)\n",
       "        )\n",
       "        (an1): AddNorm(\n",
       "          (dropout): Dropout(p=0.1)\n",
       "          (layernorm): LayerNorm(torch.Size([1024]), eps=1e-05, elementwise_affine=True)\n",
       "        )\n",
       "        (an2): AddNorm(\n",
       "          (dropout): Dropout(p=0.1)\n",
       "          (layernorm): LayerNorm(torch.Size([1024]), eps=1e-05, elementwise_affine=True)\n",
       "        )\n",
       "        (an3): AddNorm(\n",
       "          (dropout): Dropout(p=0.1)\n",
       "          (layernorm): LayerNorm(torch.Size([1024]), eps=1e-05, elementwise_affine=True)\n",
       "        )\n",
       "        (ff): FeedForward(\n",
       "          (linear1): Linear(in_features=1024, out_features=2048, bias=True)\n",
       "          (linear2): Linear(in_features=2048, out_features=1024, bias=True)\n",
       "          (dropout): Dropout(p=0.1)\n",
       "        )\n",
       "      )\n",
       "      (decoder_layer2): TransformerDecoderLayer(\n",
       "        (mhas1): MultiheadAttention(\n",
       "          (out_proj): Linear(in_features=1024, out_features=1024, bias=True)\n",
       "        )\n",
       "        (mhas2): MultiheadAttention(\n",
       "          (out_proj): Linear(in_features=1024, out_features=1024, bias=True)\n",
       "        )\n",
       "        (an1): AddNorm(\n",
       "          (dropout): Dropout(p=0.1)\n",
       "          (layernorm): LayerNorm(torch.Size([1024]), eps=1e-05, elementwise_affine=True)\n",
       "        )\n",
       "        (an2): AddNorm(\n",
       "          (dropout): Dropout(p=0.1)\n",
       "          (layernorm): LayerNorm(torch.Size([1024]), eps=1e-05, elementwise_affine=True)\n",
       "        )\n",
       "        (an3): AddNorm(\n",
       "          (dropout): Dropout(p=0.1)\n",
       "          (layernorm): LayerNorm(torch.Size([1024]), eps=1e-05, elementwise_affine=True)\n",
       "        )\n",
       "        (ff): FeedForward(\n",
       "          (linear1): Linear(in_features=1024, out_features=2048, bias=True)\n",
       "          (linear2): Linear(in_features=2048, out_features=1024, bias=True)\n",
       "          (dropout): Dropout(p=0.1)\n",
       "        )\n",
       "      )\n",
       "      (decoder_layer3): TransformerDecoderLayer(\n",
       "        (mhas1): MultiheadAttention(\n",
       "          (out_proj): Linear(in_features=1024, out_features=1024, bias=True)\n",
       "        )\n",
       "        (mhas2): MultiheadAttention(\n",
       "          (out_proj): Linear(in_features=1024, out_features=1024, bias=True)\n",
       "        )\n",
       "        (an1): AddNorm(\n",
       "          (dropout): Dropout(p=0.1)\n",
       "          (layernorm): LayerNorm(torch.Size([1024]), eps=1e-05, elementwise_affine=True)\n",
       "        )\n",
       "        (an2): AddNorm(\n",
       "          (dropout): Dropout(p=0.1)\n",
       "          (layernorm): LayerNorm(torch.Size([1024]), eps=1e-05, elementwise_affine=True)\n",
       "        )\n",
       "        (an3): AddNorm(\n",
       "          (dropout): Dropout(p=0.1)\n",
       "          (layernorm): LayerNorm(torch.Size([1024]), eps=1e-05, elementwise_affine=True)\n",
       "        )\n",
       "        (ff): FeedForward(\n",
       "          (linear1): Linear(in_features=1024, out_features=2048, bias=True)\n",
       "          (linear2): Linear(in_features=2048, out_features=1024, bias=True)\n",
       "          (dropout): Dropout(p=0.1)\n",
       "        )\n",
       "      )\n",
       "      (decoder_layer4): TransformerDecoderLayer(\n",
       "        (mhas1): MultiheadAttention(\n",
       "          (out_proj): Linear(in_features=1024, out_features=1024, bias=True)\n",
       "        )\n",
       "        (mhas2): MultiheadAttention(\n",
       "          (out_proj): Linear(in_features=1024, out_features=1024, bias=True)\n",
       "        )\n",
       "        (an1): AddNorm(\n",
       "          (dropout): Dropout(p=0.1)\n",
       "          (layernorm): LayerNorm(torch.Size([1024]), eps=1e-05, elementwise_affine=True)\n",
       "        )\n",
       "        (an2): AddNorm(\n",
       "          (dropout): Dropout(p=0.1)\n",
       "          (layernorm): LayerNorm(torch.Size([1024]), eps=1e-05, elementwise_affine=True)\n",
       "        )\n",
       "        (an3): AddNorm(\n",
       "          (dropout): Dropout(p=0.1)\n",
       "          (layernorm): LayerNorm(torch.Size([1024]), eps=1e-05, elementwise_affine=True)\n",
       "        )\n",
       "        (ff): FeedForward(\n",
       "          (linear1): Linear(in_features=1024, out_features=2048, bias=True)\n",
       "          (linear2): Linear(in_features=2048, out_features=1024, bias=True)\n",
       "          (dropout): Dropout(p=0.1)\n",
       "        )\n",
       "      )\n",
       "    )\n",
       "  )\n",
       "  (emb2voc): Linear(in_features=1024, out_features=5000, bias=True)\n",
       ")"
      ]
     },
     "execution_count": 34,
     "metadata": {},
     "output_type": "execute_result"
    }
   ],
   "source": [
    "model = Transformer(tar_vocab_size, d_model, num_heads, encoder_num_layers, decoder_num_layers, dff, dropout, max_seq_length)\n",
    "state_dict = torch.load(model_weight_file, map_location='cpu')\n",
    "model.load_state_dict(state_dict['model_state_dict'], strict=True)\n",
    "model.eval()"
   ]
  },
  {
   "cell_type": "code",
   "execution_count": 35,
   "metadata": {},
   "outputs": [
    {
     "name": "stdout",
     "output_type": "stream",
     "text": [
      "video: ('THE_BOUNTY_HUNTER_DVS278.avi',) caption origin: He drives up and taps the back of the pedicab with his bumper. caption predict: SOMEONE looks on underneath extk of mirror blows le around the  regard lowering under Tas.\n",
      "video: ('FRIENDS_WITH_BENEFITS_DVS287.avi',) caption origin: An airborne view orbits the huge white letters. SOMEONE and SOMEONE dangle their legs from the second O. caption predict: Now spa road in a black and his face with the wrwayator. SOMEONE's SUV breath wife and take a few d table underling a cannai before' costume two swirl one S sc surface.\n",
      "video: ('SPARKLE_2012_DVS578.avi',) caption origin: SOMEONE shifts her gaze, then looks to her mother. caption predict: SOMEONE looks onary.\n",
      "video: ('THE_DESCENDANTS_DVS677.avi',) caption origin: He offers a pen. caption predict: SOMEONE looks onary.\n",
      "video: ('UGLY_TRUTH_DVS239.avi',) caption origin: She flips open the lid of a pastry box and kisses his cheek. caption predict: Now spays over the passenger, in theirous to black SOMEONE's  ⁇ arn along, then kiss.\n",
      "video: ('INSIDE_MAN_DVS395.avi',) caption origin: SOMEONE dials a cell phone. caption predict: SOMEONE's tight.\n",
      "video: ('BLINDDATING_DVS26.avi',) caption origin: They hand SOMEONE the ball. caption predict: SOMEONE'sctumbles.\n",
      "video: ('UGLY_TRUTH_DVS398.avi',) caption origin: An assistant pulls off the rest of his costume. caption predict: SOMEONE  throat mar gen knee over the back.\n",
      "video: ('THE_BOUNTY_HUNTER_DVS468.avi',) caption origin: SOMEONE's eyes widen. caption predict: SOMEONE'sctumbles.\n",
      "video: ('THE_DESCENDANTS_DVS803.avi',) caption origin: They take on amoeba-like shapes as they float beside the canoe. caption predict: SOMEONE  on on the canvas as he looks, seeming  structure.\n"
     ]
    }
   ],
   "source": [
    "captioner = Captioner(model, sp, tar_max_seq_length)\n",
    "captioner.caption_video_from_dataloader(dataloader, count=10)"
   ]
  },
  {
   "cell_type": "code",
   "execution_count": 8,
   "metadata": {},
   "outputs": [],
   "source": [
    "dataiter = iter(dataloader)"
   ]
  },
  {
   "cell_type": "code",
   "execution_count": 16,
   "metadata": {},
   "outputs": [
    {
     "ename": "TypeError",
     "evalue": "batch must contain tensors, numbers, dicts or lists; found <class 'NoneType'>",
     "output_type": "error",
     "traceback": [
      "\u001b[0;31m---------------------------------------------------------------------------\u001b[0m",
      "\u001b[0;31mTypeError\u001b[0m                                 Traceback (most recent call last)",
      "\u001b[0;32m<ipython-input-16-43634590c42d>\u001b[0m in \u001b[0;36m<module>\u001b[0;34m\u001b[0m\n\u001b[0;32m----> 1\u001b[0;31m \u001b[0;32mfor\u001b[0m \u001b[0msample\u001b[0m \u001b[0;32min\u001b[0m \u001b[0mdataiter\u001b[0m\u001b[0;34m:\u001b[0m\u001b[0;34m\u001b[0m\u001b[0;34m\u001b[0m\u001b[0m\n\u001b[0m\u001b[1;32m      2\u001b[0m     \u001b[0msample\u001b[0m\u001b[0;34m[\u001b[0m\u001b[0;36m0\u001b[0m\u001b[0;34m]\u001b[0m\u001b[0;34m.\u001b[0m\u001b[0msize\u001b[0m\u001b[0;34m(\u001b[0m\u001b[0;34m)\u001b[0m\u001b[0;34m\u001b[0m\u001b[0;34m\u001b[0m\u001b[0m\n",
      "\u001b[0;32m/home/anaconda3/envs/robin/lib/python3.7/site-packages/torch/utils/data/dataloader.py\u001b[0m in \u001b[0;36m__next__\u001b[0;34m(self)\u001b[0m\n\u001b[1;32m    558\u001b[0m         \u001b[0;32mif\u001b[0m \u001b[0mself\u001b[0m\u001b[0;34m.\u001b[0m\u001b[0mnum_workers\u001b[0m \u001b[0;34m==\u001b[0m \u001b[0;36m0\u001b[0m\u001b[0;34m:\u001b[0m  \u001b[0;31m# same-process loading\u001b[0m\u001b[0;34m\u001b[0m\u001b[0;34m\u001b[0m\u001b[0m\n\u001b[1;32m    559\u001b[0m             \u001b[0mindices\u001b[0m \u001b[0;34m=\u001b[0m \u001b[0mnext\u001b[0m\u001b[0;34m(\u001b[0m\u001b[0mself\u001b[0m\u001b[0;34m.\u001b[0m\u001b[0msample_iter\u001b[0m\u001b[0;34m)\u001b[0m  \u001b[0;31m# may raise StopIteration\u001b[0m\u001b[0;34m\u001b[0m\u001b[0;34m\u001b[0m\u001b[0m\n\u001b[0;32m--> 560\u001b[0;31m             \u001b[0mbatch\u001b[0m \u001b[0;34m=\u001b[0m \u001b[0mself\u001b[0m\u001b[0;34m.\u001b[0m\u001b[0mcollate_fn\u001b[0m\u001b[0;34m(\u001b[0m\u001b[0;34m[\u001b[0m\u001b[0mself\u001b[0m\u001b[0;34m.\u001b[0m\u001b[0mdataset\u001b[0m\u001b[0;34m[\u001b[0m\u001b[0mi\u001b[0m\u001b[0;34m]\u001b[0m \u001b[0;32mfor\u001b[0m \u001b[0mi\u001b[0m \u001b[0;32min\u001b[0m \u001b[0mindices\u001b[0m\u001b[0;34m]\u001b[0m\u001b[0;34m)\u001b[0m\u001b[0;34m\u001b[0m\u001b[0;34m\u001b[0m\u001b[0m\n\u001b[0m\u001b[1;32m    561\u001b[0m             \u001b[0;32mif\u001b[0m \u001b[0mself\u001b[0m\u001b[0;34m.\u001b[0m\u001b[0mpin_memory\u001b[0m\u001b[0;34m:\u001b[0m\u001b[0;34m\u001b[0m\u001b[0;34m\u001b[0m\u001b[0m\n\u001b[1;32m    562\u001b[0m                 \u001b[0mbatch\u001b[0m \u001b[0;34m=\u001b[0m \u001b[0m_utils\u001b[0m\u001b[0;34m.\u001b[0m\u001b[0mpin_memory\u001b[0m\u001b[0;34m.\u001b[0m\u001b[0mpin_memory_batch\u001b[0m\u001b[0;34m(\u001b[0m\u001b[0mbatch\u001b[0m\u001b[0;34m)\u001b[0m\u001b[0;34m\u001b[0m\u001b[0;34m\u001b[0m\u001b[0m\n",
      "\u001b[0;32m/home/anaconda3/envs/robin/lib/python3.7/site-packages/torch/utils/data/_utils/collate.py\u001b[0m in \u001b[0;36mdefault_collate\u001b[0;34m(batch)\u001b[0m\n\u001b[1;32m     68\u001b[0m         \u001b[0;32mreturn\u001b[0m \u001b[0;34m[\u001b[0m\u001b[0mdefault_collate\u001b[0m\u001b[0;34m(\u001b[0m\u001b[0msamples\u001b[0m\u001b[0;34m)\u001b[0m \u001b[0;32mfor\u001b[0m \u001b[0msamples\u001b[0m \u001b[0;32min\u001b[0m \u001b[0mtransposed\u001b[0m\u001b[0;34m]\u001b[0m\u001b[0;34m\u001b[0m\u001b[0;34m\u001b[0m\u001b[0m\n\u001b[1;32m     69\u001b[0m \u001b[0;34m\u001b[0m\u001b[0m\n\u001b[0;32m---> 70\u001b[0;31m     \u001b[0;32mraise\u001b[0m \u001b[0mTypeError\u001b[0m\u001b[0;34m(\u001b[0m\u001b[0;34m(\u001b[0m\u001b[0merror_msg_fmt\u001b[0m\u001b[0;34m.\u001b[0m\u001b[0mformat\u001b[0m\u001b[0;34m(\u001b[0m\u001b[0mtype\u001b[0m\u001b[0;34m(\u001b[0m\u001b[0mbatch\u001b[0m\u001b[0;34m[\u001b[0m\u001b[0;36m0\u001b[0m\u001b[0;34m]\u001b[0m\u001b[0;34m)\u001b[0m\u001b[0;34m)\u001b[0m\u001b[0;34m)\u001b[0m\u001b[0;34m)\u001b[0m\u001b[0;34m\u001b[0m\u001b[0;34m\u001b[0m\u001b[0m\n\u001b[0m",
      "\u001b[0;31mTypeError\u001b[0m: batch must contain tensors, numbers, dicts or lists; found <class 'NoneType'>"
     ]
    }
   ],
   "source": [
    "for sample in dataiter:\n",
    "    sample[0].size()"
   ]
  },
  {
   "cell_type": "code",
   "execution_count": null,
   "metadata": {},
   "outputs": [],
   "source": []
  }
 ],
 "metadata": {
  "kernelspec": {
   "display_name": "Python 3",
   "language": "python",
   "name": "python3"
  },
  "language_info": {
   "codemirror_mode": {
    "name": "ipython",
    "version": 3
   },
   "file_extension": ".py",
   "mimetype": "text/x-python",
   "name": "python",
   "nbconvert_exporter": "python",
   "pygments_lexer": "ipython3",
   "version": "3.7.3"
  }
 },
 "nbformat": 4,
 "nbformat_minor": 4
}
