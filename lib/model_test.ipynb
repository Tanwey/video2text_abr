{
 "cells": [
  {
   "cell_type": "code",
   "execution_count": 1,
   "metadata": {},
   "outputs": [],
   "source": [
    "import torch\n",
    "import torch.nn as nn\n",
    "import torch.nn.functional as F\n",
    "import models.transformer as m\n",
    "import matplotlib.pyplot as plt\n",
    "import numpy as np"
   ]
  },
  {
   "cell_type": "code",
   "execution_count": 2,
   "metadata": {},
   "outputs": [],
   "source": [
    "device = torch.device('cuda:0')"
   ]
  },
  {
   "cell_type": "code",
   "execution_count": 3,
   "metadata": {},
   "outputs": [
    {
     "name": "stdout",
     "output_type": "stream",
     "text": [
      "torch.Size([50, 4, 512])\n",
      "odict_keys(['linear1.weight', 'linear1.bias', 'linear2.weight', 'linear2.bias'])\n"
     ]
    }
   ],
   "source": [
    "ff = m.FeedForward(512, 2048)\n",
    "ff.to(device)\n",
    "print(ff(torch.rand(50, 4, 512).to(device)).size())\n",
    "print(ff.state_dict().keys())"
   ]
  },
  {
   "cell_type": "code",
   "execution_count": 4,
   "metadata": {},
   "outputs": [
    {
     "name": "stdout",
     "output_type": "stream",
     "text": [
      "torch.Size([50, 4, 512])\n"
     ]
    }
   ],
   "source": [
    "pe = m.PositionalEncoder(5000, 512)\n",
    "pe.to(device)\n",
    "print(pe(torch.rand((50, 4, 512)).to(device)).size())"
   ]
  },
  {
   "cell_type": "code",
   "execution_count": 5,
   "metadata": {},
   "outputs": [
    {
     "name": "stdout",
     "output_type": "stream",
     "text": [
      "torch.Size([50, 4, 512])\n",
      "odict_keys(['layernorm.weight', 'layernorm.bias'])\n"
     ]
    }
   ],
   "source": [
    "an = m.AddNorm(512, 0.1)\n",
    "an.to(device)\n",
    "print(an(torch.rand((50, 4, 512)).to(device), torch.rand((50, 4, 512)).to(device)).size())\n",
    "print(an.state_dict().keys())"
   ]
  },
  {
   "cell_type": "code",
   "execution_count": 6,
   "metadata": {},
   "outputs": [
    {
     "name": "stdout",
     "output_type": "stream",
     "text": [
      "torch.Size([50, 4, 512])\n",
      "odict_keys(['mha.in_proj_weight', 'mha.in_proj_bias', 'mha.out_proj.weight', 'mha.out_proj.bias', 'ff.linear1.weight', 'ff.linear1.bias', 'ff.linear2.weight', 'ff.linear2.bias', 'an1.layernorm.weight', 'an1.layernorm.bias', 'an2.layernorm.weight', 'an2.layernorm.bias'])\n"
     ]
    }
   ],
   "source": [
    "el = m.TransformerEncoderLayer(512, 8, 2048)\n",
    "el.to(device)\n",
    "print(el(torch.rand(50, 4, 512).to(device)).size())\n",
    "print(el.state_dict().keys())"
   ]
  },
  {
   "cell_type": "code",
   "execution_count": 7,
   "metadata": {
    "collapsed": true,
    "jupyter": {
     "outputs_hidden": true
    }
   },
   "outputs": [
    {
     "name": "stdout",
     "output_type": "stream",
     "text": [
      "torch.Size([50, 4, 512])\n",
      "odict_keys(['encoder_layers.encoder_layer1.mha.in_proj_weight', 'encoder_layers.encoder_layer1.mha.in_proj_bias', 'encoder_layers.encoder_layer1.mha.out_proj.weight', 'encoder_layers.encoder_layer1.mha.out_proj.bias', 'encoder_layers.encoder_layer1.ff.linear1.weight', 'encoder_layers.encoder_layer1.ff.linear1.bias', 'encoder_layers.encoder_layer1.ff.linear2.weight', 'encoder_layers.encoder_layer1.ff.linear2.bias', 'encoder_layers.encoder_layer1.an1.layernorm.weight', 'encoder_layers.encoder_layer1.an1.layernorm.bias', 'encoder_layers.encoder_layer1.an2.layernorm.weight', 'encoder_layers.encoder_layer1.an2.layernorm.bias', 'encoder_layers.encoder_layer2.mha.in_proj_weight', 'encoder_layers.encoder_layer2.mha.in_proj_bias', 'encoder_layers.encoder_layer2.mha.out_proj.weight', 'encoder_layers.encoder_layer2.mha.out_proj.bias', 'encoder_layers.encoder_layer2.ff.linear1.weight', 'encoder_layers.encoder_layer2.ff.linear1.bias', 'encoder_layers.encoder_layer2.ff.linear2.weight', 'encoder_layers.encoder_layer2.ff.linear2.bias', 'encoder_layers.encoder_layer2.an1.layernorm.weight', 'encoder_layers.encoder_layer2.an1.layernorm.bias', 'encoder_layers.encoder_layer2.an2.layernorm.weight', 'encoder_layers.encoder_layer2.an2.layernorm.bias', 'encoder_layers.encoder_layer3.mha.in_proj_weight', 'encoder_layers.encoder_layer3.mha.in_proj_bias', 'encoder_layers.encoder_layer3.mha.out_proj.weight', 'encoder_layers.encoder_layer3.mha.out_proj.bias', 'encoder_layers.encoder_layer3.ff.linear1.weight', 'encoder_layers.encoder_layer3.ff.linear1.bias', 'encoder_layers.encoder_layer3.ff.linear2.weight', 'encoder_layers.encoder_layer3.ff.linear2.bias', 'encoder_layers.encoder_layer3.an1.layernorm.weight', 'encoder_layers.encoder_layer3.an1.layernorm.bias', 'encoder_layers.encoder_layer3.an2.layernorm.weight', 'encoder_layers.encoder_layer3.an2.layernorm.bias', 'encoder_layers.encoder_layer4.mha.in_proj_weight', 'encoder_layers.encoder_layer4.mha.in_proj_bias', 'encoder_layers.encoder_layer4.mha.out_proj.weight', 'encoder_layers.encoder_layer4.mha.out_proj.bias', 'encoder_layers.encoder_layer4.ff.linear1.weight', 'encoder_layers.encoder_layer4.ff.linear1.bias', 'encoder_layers.encoder_layer4.ff.linear2.weight', 'encoder_layers.encoder_layer4.ff.linear2.bias', 'encoder_layers.encoder_layer4.an1.layernorm.weight', 'encoder_layers.encoder_layer4.an1.layernorm.bias', 'encoder_layers.encoder_layer4.an2.layernorm.weight', 'encoder_layers.encoder_layer4.an2.layernorm.bias'])\n"
     ]
    }
   ],
   "source": [
    "encoder = m.TransformerEncoder(512, 8, 4, 2048)\n",
    "encoder.to(device)\n",
    "print(encoder(torch.rand(50, 4, 512).to(device)).size())\n",
    "print(encoder.state_dict().keys())"
   ]
  },
  {
   "cell_type": "code",
   "execution_count": 8,
   "metadata": {
    "collapsed": true,
    "jupyter": {
     "outputs_hidden": true
    }
   },
   "outputs": [
    {
     "name": "stdout",
     "output_type": "stream",
     "text": [
      "torch.Size([50, 4, 512])\n",
      "odict_keys(['decoder_layers.decoder_layer1.mhas1.in_proj_weight', 'decoder_layers.decoder_layer1.mhas1.in_proj_bias', 'decoder_layers.decoder_layer1.mhas1.out_proj.weight', 'decoder_layers.decoder_layer1.mhas1.out_proj.bias', 'decoder_layers.decoder_layer1.mhas2.in_proj_weight', 'decoder_layers.decoder_layer1.mhas2.in_proj_bias', 'decoder_layers.decoder_layer1.mhas2.out_proj.weight', 'decoder_layers.decoder_layer1.mhas2.out_proj.bias', 'decoder_layers.decoder_layer1.an1.layernorm.weight', 'decoder_layers.decoder_layer1.an1.layernorm.bias', 'decoder_layers.decoder_layer1.an2.layernorm.weight', 'decoder_layers.decoder_layer1.an2.layernorm.bias', 'decoder_layers.decoder_layer1.an3.layernorm.weight', 'decoder_layers.decoder_layer1.an3.layernorm.bias', 'decoder_layers.decoder_layer1.ff.linear1.weight', 'decoder_layers.decoder_layer1.ff.linear1.bias', 'decoder_layers.decoder_layer1.ff.linear2.weight', 'decoder_layers.decoder_layer1.ff.linear2.bias', 'decoder_layers.decoder_layer2.mhas1.in_proj_weight', 'decoder_layers.decoder_layer2.mhas1.in_proj_bias', 'decoder_layers.decoder_layer2.mhas1.out_proj.weight', 'decoder_layers.decoder_layer2.mhas1.out_proj.bias', 'decoder_layers.decoder_layer2.mhas2.in_proj_weight', 'decoder_layers.decoder_layer2.mhas2.in_proj_bias', 'decoder_layers.decoder_layer2.mhas2.out_proj.weight', 'decoder_layers.decoder_layer2.mhas2.out_proj.bias', 'decoder_layers.decoder_layer2.an1.layernorm.weight', 'decoder_layers.decoder_layer2.an1.layernorm.bias', 'decoder_layers.decoder_layer2.an2.layernorm.weight', 'decoder_layers.decoder_layer2.an2.layernorm.bias', 'decoder_layers.decoder_layer2.an3.layernorm.weight', 'decoder_layers.decoder_layer2.an3.layernorm.bias', 'decoder_layers.decoder_layer2.ff.linear1.weight', 'decoder_layers.decoder_layer2.ff.linear1.bias', 'decoder_layers.decoder_layer2.ff.linear2.weight', 'decoder_layers.decoder_layer2.ff.linear2.bias', 'decoder_layers.decoder_layer3.mhas1.in_proj_weight', 'decoder_layers.decoder_layer3.mhas1.in_proj_bias', 'decoder_layers.decoder_layer3.mhas1.out_proj.weight', 'decoder_layers.decoder_layer3.mhas1.out_proj.bias', 'decoder_layers.decoder_layer3.mhas2.in_proj_weight', 'decoder_layers.decoder_layer3.mhas2.in_proj_bias', 'decoder_layers.decoder_layer3.mhas2.out_proj.weight', 'decoder_layers.decoder_layer3.mhas2.out_proj.bias', 'decoder_layers.decoder_layer3.an1.layernorm.weight', 'decoder_layers.decoder_layer3.an1.layernorm.bias', 'decoder_layers.decoder_layer3.an2.layernorm.weight', 'decoder_layers.decoder_layer3.an2.layernorm.bias', 'decoder_layers.decoder_layer3.an3.layernorm.weight', 'decoder_layers.decoder_layer3.an3.layernorm.bias', 'decoder_layers.decoder_layer3.ff.linear1.weight', 'decoder_layers.decoder_layer3.ff.linear1.bias', 'decoder_layers.decoder_layer3.ff.linear2.weight', 'decoder_layers.decoder_layer3.ff.linear2.bias', 'decoder_layers.decoder_layer4.mhas1.in_proj_weight', 'decoder_layers.decoder_layer4.mhas1.in_proj_bias', 'decoder_layers.decoder_layer4.mhas1.out_proj.weight', 'decoder_layers.decoder_layer4.mhas1.out_proj.bias', 'decoder_layers.decoder_layer4.mhas2.in_proj_weight', 'decoder_layers.decoder_layer4.mhas2.in_proj_bias', 'decoder_layers.decoder_layer4.mhas2.out_proj.weight', 'decoder_layers.decoder_layer4.mhas2.out_proj.bias', 'decoder_layers.decoder_layer4.an1.layernorm.weight', 'decoder_layers.decoder_layer4.an1.layernorm.bias', 'decoder_layers.decoder_layer4.an2.layernorm.weight', 'decoder_layers.decoder_layer4.an2.layernorm.bias', 'decoder_layers.decoder_layer4.an3.layernorm.weight', 'decoder_layers.decoder_layer4.an3.layernorm.bias', 'decoder_layers.decoder_layer4.ff.linear1.weight', 'decoder_layers.decoder_layer4.ff.linear1.bias', 'decoder_layers.decoder_layer4.ff.linear2.weight', 'decoder_layers.decoder_layer4.ff.linear2.bias'])\n"
     ]
    }
   ],
   "source": [
    "decoder = m.TransformerDecoder(512, 8, 4, 2048)\n",
    "decoder.to(device)\n",
    "print(decoder(torch.rand(50, 4, 512).to(device), torch.rand(50, 4, 512).to(device)).size())\n",
    "print(decoder.state_dict().keys())"
   ]
  },
  {
   "cell_type": "code",
   "execution_count": 13,
   "metadata": {
    "collapsed": true,
    "jupyter": {
     "outputs_hidden": true
    }
   },
   "outputs": [
    {
     "name": "stdout",
     "output_type": "stream",
     "text": [
      "torch.Size([4, 20, 5000])\n",
      "odict_keys(['encoder.encoder_layers.encoder_layer1.mha.in_proj_weight', 'encoder.encoder_layers.encoder_layer1.mha.in_proj_bias', 'encoder.encoder_layers.encoder_layer1.mha.out_proj.weight', 'encoder.encoder_layers.encoder_layer1.mha.out_proj.bias', 'encoder.encoder_layers.encoder_layer1.ff.linear1.weight', 'encoder.encoder_layers.encoder_layer1.ff.linear1.bias', 'encoder.encoder_layers.encoder_layer1.ff.linear2.weight', 'encoder.encoder_layers.encoder_layer1.ff.linear2.bias', 'encoder.encoder_layers.encoder_layer1.an1.layernorm.weight', 'encoder.encoder_layers.encoder_layer1.an1.layernorm.bias', 'encoder.encoder_layers.encoder_layer1.an2.layernorm.weight', 'encoder.encoder_layers.encoder_layer1.an2.layernorm.bias', 'encoder.encoder_layers.encoder_layer2.mha.in_proj_weight', 'encoder.encoder_layers.encoder_layer2.mha.in_proj_bias', 'encoder.encoder_layers.encoder_layer2.mha.out_proj.weight', 'encoder.encoder_layers.encoder_layer2.mha.out_proj.bias', 'encoder.encoder_layers.encoder_layer2.ff.linear1.weight', 'encoder.encoder_layers.encoder_layer2.ff.linear1.bias', 'encoder.encoder_layers.encoder_layer2.ff.linear2.weight', 'encoder.encoder_layers.encoder_layer2.ff.linear2.bias', 'encoder.encoder_layers.encoder_layer2.an1.layernorm.weight', 'encoder.encoder_layers.encoder_layer2.an1.layernorm.bias', 'encoder.encoder_layers.encoder_layer2.an2.layernorm.weight', 'encoder.encoder_layers.encoder_layer2.an2.layernorm.bias', 'encoder.encoder_layers.encoder_layer3.mha.in_proj_weight', 'encoder.encoder_layers.encoder_layer3.mha.in_proj_bias', 'encoder.encoder_layers.encoder_layer3.mha.out_proj.weight', 'encoder.encoder_layers.encoder_layer3.mha.out_proj.bias', 'encoder.encoder_layers.encoder_layer3.ff.linear1.weight', 'encoder.encoder_layers.encoder_layer3.ff.linear1.bias', 'encoder.encoder_layers.encoder_layer3.ff.linear2.weight', 'encoder.encoder_layers.encoder_layer3.ff.linear2.bias', 'encoder.encoder_layers.encoder_layer3.an1.layernorm.weight', 'encoder.encoder_layers.encoder_layer3.an1.layernorm.bias', 'encoder.encoder_layers.encoder_layer3.an2.layernorm.weight', 'encoder.encoder_layers.encoder_layer3.an2.layernorm.bias', 'encoder.encoder_layers.encoder_layer4.mha.in_proj_weight', 'encoder.encoder_layers.encoder_layer4.mha.in_proj_bias', 'encoder.encoder_layers.encoder_layer4.mha.out_proj.weight', 'encoder.encoder_layers.encoder_layer4.mha.out_proj.bias', 'encoder.encoder_layers.encoder_layer4.ff.linear1.weight', 'encoder.encoder_layers.encoder_layer4.ff.linear1.bias', 'encoder.encoder_layers.encoder_layer4.ff.linear2.weight', 'encoder.encoder_layers.encoder_layer4.ff.linear2.bias', 'encoder.encoder_layers.encoder_layer4.an1.layernorm.weight', 'encoder.encoder_layers.encoder_layer4.an1.layernorm.bias', 'encoder.encoder_layers.encoder_layer4.an2.layernorm.weight', 'encoder.encoder_layers.encoder_layer4.an2.layernorm.bias', 'encoder.encoder_layers.encoder_layer5.mha.in_proj_weight', 'encoder.encoder_layers.encoder_layer5.mha.in_proj_bias', 'encoder.encoder_layers.encoder_layer5.mha.out_proj.weight', 'encoder.encoder_layers.encoder_layer5.mha.out_proj.bias', 'encoder.encoder_layers.encoder_layer5.ff.linear1.weight', 'encoder.encoder_layers.encoder_layer5.ff.linear1.bias', 'encoder.encoder_layers.encoder_layer5.ff.linear2.weight', 'encoder.encoder_layers.encoder_layer5.ff.linear2.bias', 'encoder.encoder_layers.encoder_layer5.an1.layernorm.weight', 'encoder.encoder_layers.encoder_layer5.an1.layernorm.bias', 'encoder.encoder_layers.encoder_layer5.an2.layernorm.weight', 'encoder.encoder_layers.encoder_layer5.an2.layernorm.bias', 'encoder.encoder_layers.encoder_layer6.mha.in_proj_weight', 'encoder.encoder_layers.encoder_layer6.mha.in_proj_bias', 'encoder.encoder_layers.encoder_layer6.mha.out_proj.weight', 'encoder.encoder_layers.encoder_layer6.mha.out_proj.bias', 'encoder.encoder_layers.encoder_layer6.ff.linear1.weight', 'encoder.encoder_layers.encoder_layer6.ff.linear1.bias', 'encoder.encoder_layers.encoder_layer6.ff.linear2.weight', 'encoder.encoder_layers.encoder_layer6.ff.linear2.bias', 'encoder.encoder_layers.encoder_layer6.an1.layernorm.weight', 'encoder.encoder_layers.encoder_layer6.an1.layernorm.bias', 'encoder.encoder_layers.encoder_layer6.an2.layernorm.weight', 'encoder.encoder_layers.encoder_layer6.an2.layernorm.bias', 'word_embedding.weight', 'decoder.decoder_layers.decoder_layer1.mhas1.in_proj_weight', 'decoder.decoder_layers.decoder_layer1.mhas1.in_proj_bias', 'decoder.decoder_layers.decoder_layer1.mhas1.out_proj.weight', 'decoder.decoder_layers.decoder_layer1.mhas1.out_proj.bias', 'decoder.decoder_layers.decoder_layer1.mhas2.in_proj_weight', 'decoder.decoder_layers.decoder_layer1.mhas2.in_proj_bias', 'decoder.decoder_layers.decoder_layer1.mhas2.out_proj.weight', 'decoder.decoder_layers.decoder_layer1.mhas2.out_proj.bias', 'decoder.decoder_layers.decoder_layer1.an1.layernorm.weight', 'decoder.decoder_layers.decoder_layer1.an1.layernorm.bias', 'decoder.decoder_layers.decoder_layer1.an2.layernorm.weight', 'decoder.decoder_layers.decoder_layer1.an2.layernorm.bias', 'decoder.decoder_layers.decoder_layer1.an3.layernorm.weight', 'decoder.decoder_layers.decoder_layer1.an3.layernorm.bias', 'decoder.decoder_layers.decoder_layer1.ff.linear1.weight', 'decoder.decoder_layers.decoder_layer1.ff.linear1.bias', 'decoder.decoder_layers.decoder_layer1.ff.linear2.weight', 'decoder.decoder_layers.decoder_layer1.ff.linear2.bias', 'decoder.decoder_layers.decoder_layer2.mhas1.in_proj_weight', 'decoder.decoder_layers.decoder_layer2.mhas1.in_proj_bias', 'decoder.decoder_layers.decoder_layer2.mhas1.out_proj.weight', 'decoder.decoder_layers.decoder_layer2.mhas1.out_proj.bias', 'decoder.decoder_layers.decoder_layer2.mhas2.in_proj_weight', 'decoder.decoder_layers.decoder_layer2.mhas2.in_proj_bias', 'decoder.decoder_layers.decoder_layer2.mhas2.out_proj.weight', 'decoder.decoder_layers.decoder_layer2.mhas2.out_proj.bias', 'decoder.decoder_layers.decoder_layer2.an1.layernorm.weight', 'decoder.decoder_layers.decoder_layer2.an1.layernorm.bias', 'decoder.decoder_layers.decoder_layer2.an2.layernorm.weight', 'decoder.decoder_layers.decoder_layer2.an2.layernorm.bias', 'decoder.decoder_layers.decoder_layer2.an3.layernorm.weight', 'decoder.decoder_layers.decoder_layer2.an3.layernorm.bias', 'decoder.decoder_layers.decoder_layer2.ff.linear1.weight', 'decoder.decoder_layers.decoder_layer2.ff.linear1.bias', 'decoder.decoder_layers.decoder_layer2.ff.linear2.weight', 'decoder.decoder_layers.decoder_layer2.ff.linear2.bias', 'decoder.decoder_layers.decoder_layer3.mhas1.in_proj_weight', 'decoder.decoder_layers.decoder_layer3.mhas1.in_proj_bias', 'decoder.decoder_layers.decoder_layer3.mhas1.out_proj.weight', 'decoder.decoder_layers.decoder_layer3.mhas1.out_proj.bias', 'decoder.decoder_layers.decoder_layer3.mhas2.in_proj_weight', 'decoder.decoder_layers.decoder_layer3.mhas2.in_proj_bias', 'decoder.decoder_layers.decoder_layer3.mhas2.out_proj.weight', 'decoder.decoder_layers.decoder_layer3.mhas2.out_proj.bias', 'decoder.decoder_layers.decoder_layer3.an1.layernorm.weight', 'decoder.decoder_layers.decoder_layer3.an1.layernorm.bias', 'decoder.decoder_layers.decoder_layer3.an2.layernorm.weight', 'decoder.decoder_layers.decoder_layer3.an2.layernorm.bias', 'decoder.decoder_layers.decoder_layer3.an3.layernorm.weight', 'decoder.decoder_layers.decoder_layer3.an3.layernorm.bias', 'decoder.decoder_layers.decoder_layer3.ff.linear1.weight', 'decoder.decoder_layers.decoder_layer3.ff.linear1.bias', 'decoder.decoder_layers.decoder_layer3.ff.linear2.weight', 'decoder.decoder_layers.decoder_layer3.ff.linear2.bias', 'decoder.decoder_layers.decoder_layer4.mhas1.in_proj_weight', 'decoder.decoder_layers.decoder_layer4.mhas1.in_proj_bias', 'decoder.decoder_layers.decoder_layer4.mhas1.out_proj.weight', 'decoder.decoder_layers.decoder_layer4.mhas1.out_proj.bias', 'decoder.decoder_layers.decoder_layer4.mhas2.in_proj_weight', 'decoder.decoder_layers.decoder_layer4.mhas2.in_proj_bias', 'decoder.decoder_layers.decoder_layer4.mhas2.out_proj.weight', 'decoder.decoder_layers.decoder_layer4.mhas2.out_proj.bias', 'decoder.decoder_layers.decoder_layer4.an1.layernorm.weight', 'decoder.decoder_layers.decoder_layer4.an1.layernorm.bias', 'decoder.decoder_layers.decoder_layer4.an2.layernorm.weight', 'decoder.decoder_layers.decoder_layer4.an2.layernorm.bias', 'decoder.decoder_layers.decoder_layer4.an3.layernorm.weight', 'decoder.decoder_layers.decoder_layer4.an3.layernorm.bias', 'decoder.decoder_layers.decoder_layer4.ff.linear1.weight', 'decoder.decoder_layers.decoder_layer4.ff.linear1.bias', 'decoder.decoder_layers.decoder_layer4.ff.linear2.weight', 'decoder.decoder_layers.decoder_layer4.ff.linear2.bias', 'decoder.decoder_layers.decoder_layer5.mhas1.in_proj_weight', 'decoder.decoder_layers.decoder_layer5.mhas1.in_proj_bias', 'decoder.decoder_layers.decoder_layer5.mhas1.out_proj.weight', 'decoder.decoder_layers.decoder_layer5.mhas1.out_proj.bias', 'decoder.decoder_layers.decoder_layer5.mhas2.in_proj_weight', 'decoder.decoder_layers.decoder_layer5.mhas2.in_proj_bias', 'decoder.decoder_layers.decoder_layer5.mhas2.out_proj.weight', 'decoder.decoder_layers.decoder_layer5.mhas2.out_proj.bias', 'decoder.decoder_layers.decoder_layer5.an1.layernorm.weight', 'decoder.decoder_layers.decoder_layer5.an1.layernorm.bias', 'decoder.decoder_layers.decoder_layer5.an2.layernorm.weight', 'decoder.decoder_layers.decoder_layer5.an2.layernorm.bias', 'decoder.decoder_layers.decoder_layer5.an3.layernorm.weight', 'decoder.decoder_layers.decoder_layer5.an3.layernorm.bias', 'decoder.decoder_layers.decoder_layer5.ff.linear1.weight', 'decoder.decoder_layers.decoder_layer5.ff.linear1.bias', 'decoder.decoder_layers.decoder_layer5.ff.linear2.weight', 'decoder.decoder_layers.decoder_layer5.ff.linear2.bias', 'decoder.decoder_layers.decoder_layer6.mhas1.in_proj_weight', 'decoder.decoder_layers.decoder_layer6.mhas1.in_proj_bias', 'decoder.decoder_layers.decoder_layer6.mhas1.out_proj.weight', 'decoder.decoder_layers.decoder_layer6.mhas1.out_proj.bias', 'decoder.decoder_layers.decoder_layer6.mhas2.in_proj_weight', 'decoder.decoder_layers.decoder_layer6.mhas2.in_proj_bias', 'decoder.decoder_layers.decoder_layer6.mhas2.out_proj.weight', 'decoder.decoder_layers.decoder_layer6.mhas2.out_proj.bias', 'decoder.decoder_layers.decoder_layer6.an1.layernorm.weight', 'decoder.decoder_layers.decoder_layer6.an1.layernorm.bias', 'decoder.decoder_layers.decoder_layer6.an2.layernorm.weight', 'decoder.decoder_layers.decoder_layer6.an2.layernorm.bias', 'decoder.decoder_layers.decoder_layer6.an3.layernorm.weight', 'decoder.decoder_layers.decoder_layer6.an3.layernorm.bias', 'decoder.decoder_layers.decoder_layer6.ff.linear1.weight', 'decoder.decoder_layers.decoder_layer6.ff.linear1.bias', 'decoder.decoder_layers.decoder_layer6.ff.linear2.weight', 'decoder.decoder_layers.decoder_layer6.ff.linear2.bias', 'emb2voc.weight', 'emb2voc.bias'])\n"
     ]
    }
   ],
   "source": [
    "transformer = m.Transformer(5000, 512, 8, 6, 2048)\n",
    "transformer.to(device)\n",
    "inp = torch.rand(20, 4, 512).to(device)\n",
    "tar = torch.randint(0, 1, (4, 20)).to(device)\n",
    "inp_padd = torch.randint(0, 2, (4, 20)).type(torch.uint8).to(device)\n",
    "tar_padd = m.create_padding_mask_from_data(tar).to(device)\n",
    "tar_look = m.create_look_ahead_mask(tar.size(1)).to(device)\n",
    "print(transformer(inp, tar, inp_key_padding_mask=inp_padd, tar_key_padding_mask=tar_padd, mem_key_padding_mask=inp_padd, tar_attn_mask=tar_look).size())\n",
    "print(transformer.state_dict().keys())"
   ]
  },
  {
   "cell_type": "code",
   "execution_count": 68,
   "metadata": {},
   "outputs": [],
   "source": [
    "def accuracy_metrics(predict, target):\n",
    "    matched_matrix = (torch.max(predict, dim=-1)[1] == target)\n",
    "    mask = (target != 0)\n",
    "    matched_matrix = matched_matrix * mask\n",
    "    acc = matched_matrix.type(torch.float).sum() / mask.type(torch.float).sum()\n",
    "    return acc"
   ]
  },
  {
   "cell_type": "code",
   "execution_count": 26,
   "metadata": {},
   "outputs": [],
   "source": [
    "tar = torch.randint(0, 2, (2, 4))"
   ]
  },
  {
   "cell_type": "code",
   "execution_count": 48,
   "metadata": {},
   "outputs": [
    {
     "data": {
      "text/plain": [
       "tensor([[1, 0, 0, 0],\n",
       "        [1, 1, 0, 0]])"
      ]
     },
     "execution_count": 48,
     "metadata": {},
     "output_type": "execute_result"
    }
   ],
   "source": [
    "tar"
   ]
  },
  {
   "cell_type": "code",
   "execution_count": 55,
   "metadata": {},
   "outputs": [],
   "source": [
    "inp = torch.rand((2, 4, 8))"
   ]
  },
  {
   "cell_type": "code",
   "execution_count": 67,
   "metadata": {},
   "outputs": [
    {
     "data": {
      "text/plain": [
       "tensor([[[0.3651, 1.0000, 0.7920, 0.4278, 0.1233, 0.6303, 0.1410, 0.1200],\n",
       "         [0.0690, 0.8083, 0.9296, 0.5539, 0.1202, 0.9849, 0.7614, 0.8524],\n",
       "         [0.0000, 0.2732, 0.2572, 0.8573, 0.4406, 0.6854, 0.4603, 0.3153],\n",
       "         [0.3523, 0.3768, 0.4104, 0.3379, 0.7744, 0.9522, 0.8908, 0.5174]],\n",
       "\n",
       "        [[0.3890, 1.0000, 0.0547, 0.2634, 0.5774, 0.8788, 0.6619, 0.2587],\n",
       "         [0.2807, 1.0000, 0.3326, 0.0175, 0.4737, 0.7933, 0.9083, 0.4498],\n",
       "         [0.7653, 0.2699, 0.0890, 0.0855, 0.9379, 0.1390, 0.3373, 0.9730],\n",
       "         [0.5138, 0.5583, 0.4108, 0.0065, 0.8243, 0.6241, 0.3070, 0.0610]]])"
      ]
     },
     "execution_count": 67,
     "metadata": {},
     "output_type": "execute_result"
    }
   ],
   "source": [
    "inp"
   ]
  },
  {
   "cell_type": "code",
   "execution_count": 69,
   "metadata": {},
   "outputs": [],
   "source": [
    "a = accuracy_metrics(inp, tar)"
   ]
  },
  {
   "cell_type": "code",
   "execution_count": 70,
   "metadata": {},
   "outputs": [
    {
     "data": {
      "text/plain": [
       "tensor(1.)"
      ]
     },
     "execution_count": 70,
     "metadata": {},
     "output_type": "execute_result"
    }
   ],
   "source": [
    "a"
   ]
  },
  {
   "cell_type": "code",
   "execution_count": null,
   "metadata": {},
   "outputs": [],
   "source": []
  }
 ],
 "metadata": {
  "kernelspec": {
   "display_name": "Python 3",
   "language": "python",
   "name": "python3"
  },
  "language_info": {
   "codemirror_mode": {
    "name": "ipython",
    "version": 3
   },
   "file_extension": ".py",
   "mimetype": "text/x-python",
   "name": "python",
   "nbconvert_exporter": "python",
   "pygments_lexer": "ipython3",
   "version": "3.7.3"
  }
 },
 "nbformat": 4,
 "nbformat_minor": 4
}
