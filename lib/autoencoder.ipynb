{
 "cells": [
  {
   "cell_type": "code",
   "execution_count": 1,
   "metadata": {},
   "outputs": [],
   "source": [
    "import torch\n",
    "import torch.nn as nn\n",
    "import torch.nn.functional as F\n",
    "import torch.optim as optim\n",
    "from torch.utils.data import DataLoader\n",
    "\n",
    "import numpy as np\n",
    "\n",
    "from models.autoencoder import Autoencoder\n",
    "from dataset_extracted import ExtractedFeatureDatasetOnlyFeature\n",
    "import os\n",
    "import time"
   ]
  },
  {
   "cell_type": "code",
   "execution_count": 2,
   "metadata": {},
   "outputs": [],
   "source": [
    "latent = 512\n",
    "lr = 0.0001\n",
    "BATCH = 1\n",
    "EPOCH = 100"
   ]
  },
  {
   "cell_type": "code",
   "execution_count": 3,
   "metadata": {},
   "outputs": [],
   "source": [
    "feature_path = '../MVAD/I3D_rgb_kinetics/train'\n",
    "with open('../MVAD/train_fine') as f:\n",
    "    files = f.readlines()\n",
    "    feature_files = list(map(lambda file: os.path.join(feature_path, str.strip(file) + '.npy'), files))\n",
    "    feature_files.extend(list(map(lambda file: os.path.join(feature_path + '_fliped', str.strip(file) + '.npy'), files)))\n",
    "dataset = ExtractedFeatureDatasetOnlyFeature(None ,feature_files=feature_files)\n",
    "dataloader = DataLoader(dataset, BATCH, True)"
   ]
  },
  {
   "cell_type": "code",
   "execution_count": 4,
   "metadata": {},
   "outputs": [],
   "source": [
    "device = torch.device('cuda:0')"
   ]
  },
  {
   "cell_type": "code",
   "execution_count": 5,
   "metadata": {},
   "outputs": [
    {
     "data": {
      "text/plain": [
       "Autoencoder(\n",
       "  (encoder_linear1): Linear(in_features=1024, out_features=512, bias=True)\n",
       "  (decoder_linear1): Linear(in_features=512, out_features=1024, bias=True)\n",
       ")"
      ]
     },
     "execution_count": 5,
     "metadata": {},
     "output_type": "execute_result"
    }
   ],
   "source": [
    "model = Autoencoder(512)\n",
    "model.to(device)\n",
    "model.train()"
   ]
  },
  {
   "cell_type": "code",
   "execution_count": 6,
   "metadata": {},
   "outputs": [],
   "source": [
    "optimizer = optim.Adam(model.parameters(), lr)\n",
    "criterion = nn.L1Loss()"
   ]
  },
  {
   "cell_type": "code",
   "execution_count": 7,
   "metadata": {},
   "outputs": [
    {
     "name": "stdout",
     "output_type": "stream",
     "text": [
      "epoch 1 157.4s - train_loss: 0.037921 train_accuracy: 0.0000\n",
      "epoch 2 313.8s - train_loss: 0.029148 train_accuracy: 0.0000\n",
      "epoch 3 468.1s - train_loss: 0.028370 train_accuracy: 0.0000\n",
      "epoch 4 623.8s - train_loss: 0.028019 train_accuracy: 0.0000\n",
      "epoch 5 779.5s - train_loss: 0.027819 train_accuracy: 0.0000\n",
      "epoch 6 935.5s - train_loss: 0.027684 train_accuracy: 0.0000\n",
      "epoch 7 1097.0s - train_loss: 0.027592 train_accuracy: 0.0000\n",
      "epoch 8 1254.6s - train_loss: 0.027512 train_accuracy: 0.0000\n",
      "epoch 9 1413.4s - train_loss: 0.027455 train_accuracy: 0.0000\n",
      "epoch 10 1571.9s - train_loss: 0.027413 train_accuracy: 0.0000\n",
      "epoch 11 1729.2s - train_loss: 0.027370 train_accuracy: 0.0000\n",
      "epoch 12 1881.9s - train_loss: 0.027334 train_accuracy: 0.0000\n",
      "epoch 13 2041.0s - train_loss: 0.027303 train_accuracy: 0.0000\n",
      "epoch 14 2198.5s - train_loss: 0.027277 train_accuracy: 0.0000\n",
      "epoch 15 2352.4s - train_loss: 0.027259 train_accuracy: 0.0000\n",
      "epoch 16 2504.2s - train_loss: 0.027226 train_accuracy: 0.0000\n",
      "epoch 17 2660.1s - train_loss: 0.027208 train_accuracy: 0.0000\n",
      "epoch 18 2815.7s - train_loss: 0.027191 train_accuracy: 0.0000\n",
      "epoch 19 2969.2s - train_loss: 0.027169 train_accuracy: 0.0000\n",
      "epoch 20 3123.7s - train_loss: 0.027154 train_accuracy: 0.0000\n",
      "epoch 21 3277.7s - train_loss: 0.027142 train_accuracy: 0.0000\n",
      "epoch 22 3435.0s - train_loss: 0.027118 train_accuracy: 0.0000\n",
      "epoch 23 3589.9s - train_loss: 0.027106 train_accuracy: 0.0000\n",
      "epoch 24 3743.3s - train_loss: 0.027100 train_accuracy: 0.0000\n",
      "epoch 25 3900.3s - train_loss: 0.027086 train_accuracy: 0.0000\n",
      "epoch 26 4056.5s - train_loss: 0.027077 train_accuracy: 0.0000\n",
      "epoch 27 4210.1s - train_loss: 0.027069 train_accuracy: 0.0000\n"
     ]
    },
    {
     "ename": "KeyboardInterrupt",
     "evalue": "",
     "output_type": "error",
     "traceback": [
      "\u001b[0;31m---------------------------------------------------------------------------\u001b[0m",
      "\u001b[0;31mKeyboardInterrupt\u001b[0m                         Traceback (most recent call last)",
      "\u001b[0;32m<ipython-input-7-0e38fcf36ab7>\u001b[0m in \u001b[0;36m<module>\u001b[0;34m\u001b[0m\n\u001b[1;32m      9\u001b[0m \u001b[0;34m\u001b[0m\u001b[0m\n\u001b[1;32m     10\u001b[0m         \u001b[0moptimizer\u001b[0m\u001b[0;34m.\u001b[0m\u001b[0mzero_grad\u001b[0m\u001b[0;34m(\u001b[0m\u001b[0;34m)\u001b[0m\u001b[0;34m\u001b[0m\u001b[0;34m\u001b[0m\u001b[0m\n\u001b[0;32m---> 11\u001b[0;31m         \u001b[0mloss\u001b[0m\u001b[0;34m.\u001b[0m\u001b[0mbackward\u001b[0m\u001b[0;34m(\u001b[0m\u001b[0;34m)\u001b[0m\u001b[0;34m\u001b[0m\u001b[0;34m\u001b[0m\u001b[0m\n\u001b[0m\u001b[1;32m     12\u001b[0m         \u001b[0moptimizer\u001b[0m\u001b[0;34m.\u001b[0m\u001b[0mstep\u001b[0m\u001b[0;34m(\u001b[0m\u001b[0;34m)\u001b[0m\u001b[0;34m\u001b[0m\u001b[0;34m\u001b[0m\u001b[0m\n\u001b[1;32m     13\u001b[0m \u001b[0;34m\u001b[0m\u001b[0m\n",
      "\u001b[0;32m/home/anaconda3/envs/robin/lib/python3.7/site-packages/torch/tensor.py\u001b[0m in \u001b[0;36mbackward\u001b[0;34m(self, gradient, retain_graph, create_graph)\u001b[0m\n\u001b[1;32m    105\u001b[0m                 \u001b[0mproducts\u001b[0m\u001b[0;34m.\u001b[0m \u001b[0mDefaults\u001b[0m \u001b[0mto\u001b[0m\u001b[0;31m \u001b[0m\u001b[0;31m`\u001b[0m\u001b[0;31m`\u001b[0m\u001b[0;32mFalse\u001b[0m\u001b[0;31m`\u001b[0m\u001b[0;31m`\u001b[0m\u001b[0;34m.\u001b[0m\u001b[0;34m\u001b[0m\u001b[0;34m\u001b[0m\u001b[0m\n\u001b[1;32m    106\u001b[0m         \"\"\"\n\u001b[0;32m--> 107\u001b[0;31m         \u001b[0mtorch\u001b[0m\u001b[0;34m.\u001b[0m\u001b[0mautograd\u001b[0m\u001b[0;34m.\u001b[0m\u001b[0mbackward\u001b[0m\u001b[0;34m(\u001b[0m\u001b[0mself\u001b[0m\u001b[0;34m,\u001b[0m \u001b[0mgradient\u001b[0m\u001b[0;34m,\u001b[0m \u001b[0mretain_graph\u001b[0m\u001b[0;34m,\u001b[0m \u001b[0mcreate_graph\u001b[0m\u001b[0;34m)\u001b[0m\u001b[0;34m\u001b[0m\u001b[0;34m\u001b[0m\u001b[0m\n\u001b[0m\u001b[1;32m    108\u001b[0m \u001b[0;34m\u001b[0m\u001b[0m\n\u001b[1;32m    109\u001b[0m     \u001b[0;32mdef\u001b[0m \u001b[0mregister_hook\u001b[0m\u001b[0;34m(\u001b[0m\u001b[0mself\u001b[0m\u001b[0;34m,\u001b[0m \u001b[0mhook\u001b[0m\u001b[0;34m)\u001b[0m\u001b[0;34m:\u001b[0m\u001b[0;34m\u001b[0m\u001b[0;34m\u001b[0m\u001b[0m\n",
      "\u001b[0;32m/home/anaconda3/envs/robin/lib/python3.7/site-packages/torch/autograd/__init__.py\u001b[0m in \u001b[0;36mbackward\u001b[0;34m(tensors, grad_tensors, retain_graph, create_graph, grad_variables)\u001b[0m\n\u001b[1;32m     91\u001b[0m     Variable._execution_engine.run_backward(\n\u001b[1;32m     92\u001b[0m         \u001b[0mtensors\u001b[0m\u001b[0;34m,\u001b[0m \u001b[0mgrad_tensors\u001b[0m\u001b[0;34m,\u001b[0m \u001b[0mretain_graph\u001b[0m\u001b[0;34m,\u001b[0m \u001b[0mcreate_graph\u001b[0m\u001b[0;34m,\u001b[0m\u001b[0;34m\u001b[0m\u001b[0;34m\u001b[0m\u001b[0m\n\u001b[0;32m---> 93\u001b[0;31m         allow_unreachable=True)  # allow_unreachable flag\n\u001b[0m\u001b[1;32m     94\u001b[0m \u001b[0;34m\u001b[0m\u001b[0m\n\u001b[1;32m     95\u001b[0m \u001b[0;34m\u001b[0m\u001b[0m\n",
      "\u001b[0;31mKeyboardInterrupt\u001b[0m: "
     ]
    }
   ],
   "source": [
    "start_time = time.time()\n",
    "for epoch in range(1, EPOCH + 1):\n",
    "    train_loss = 0\n",
    "    train_accuracy = 0\n",
    "    for batch, feature in enumerate(dataloader, start=1):\n",
    "        feature = feature.to(device)\n",
    "        out = model(feature)\n",
    "        loss = criterion(out, feature)\n",
    "        \n",
    "        optimizer.zero_grad()\n",
    "        loss.backward()\n",
    "        optimizer.step()\n",
    "        \n",
    "        accuracy = 0\n",
    "        train_loss += loss\n",
    "        train_accuracy += accuracy\n",
    "        \n",
    "    print('epoch {} {:.1f}s - train_loss: {:.6f} train_accuracy: {:.4f}'.format(epoch, time.time() - start_time, train_loss / batch, train_accuracy / batch))\n",
    "    if epoch % 10:\n",
    "        torch.save({'epoch': epoch,\n",
    "                    'model_state_dict': model.state_dict(),}, '../checkpoint/autoencoder{}'.format(epoch // 10))"
   ]
  },
  {
   "cell_type": "code",
   "execution_count": null,
   "metadata": {},
   "outputs": [],
   "source": []
  },
  {
   "cell_type": "code",
   "execution_count": null,
   "metadata": {},
   "outputs": [],
   "source": []
  }
 ],
 "metadata": {
  "kernelspec": {
   "display_name": "Python 3",
   "language": "python",
   "name": "python3"
  },
  "language_info": {
   "codemirror_mode": {
    "name": "ipython",
    "version": 3
   },
   "file_extension": ".py",
   "mimetype": "text/x-python",
   "name": "python",
   "nbconvert_exporter": "python",
   "pygments_lexer": "ipython3",
   "version": "3.7.3"
  }
 },
 "nbformat": 4,
 "nbformat_minor": 4
}
