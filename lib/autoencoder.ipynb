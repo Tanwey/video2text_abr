{
 "cells": [
  {
   "cell_type": "code",
   "execution_count": 1,
   "metadata": {},
   "outputs": [],
   "source": [
    "import torch\n",
    "import torch.nn as nn\n",
    "import torch.nn.functional as F\n",
    "import torch.optim as optim\n",
    "from torch.utils.data import DataLoader\n",
    "\n",
    "import numpy as np\n",
    "\n",
    "from models.autoencoder import Autoencoder\n",
    "from dataset_extracted import ExtractedFeatureDatasetOnlyFeature\n",
    "import os\n",
    "import time"
   ]
  },
  {
   "cell_type": "code",
   "execution_count": 2,
   "metadata": {},
   "outputs": [
    {
     "ename": "AttributeError",
     "evalue": "module 'torch.optim' has no attribute 'A'",
     "output_type": "error",
     "traceback": [
      "\u001b[0;31m---------------------------------------------------------------------------\u001b[0m",
      "\u001b[0;31mAttributeError\u001b[0m                            Traceback (most recent call last)",
      "\u001b[0;32m<ipython-input-2-2d1ad8421161>\u001b[0m in \u001b[0;36m<module>\u001b[0;34m\u001b[0m\n\u001b[0;32m----> 1\u001b[0;31m \u001b[0moptim\u001b[0m\u001b[0;34m.\u001b[0m\u001b[0mA\u001b[0m\u001b[0;34m\u001b[0m\u001b[0;34m\u001b[0m\u001b[0m\n\u001b[0m",
      "\u001b[0;31mAttributeError\u001b[0m: module 'torch.optim' has no attribute 'A'"
     ]
    }
   ],
   "source": [
    "optimizer = optim.Adam([], lr=0.001)\n",
    "optimizer.load_"
   ]
  },
  {
   "cell_type": "code",
   "execution_count": 2,
   "metadata": {},
   "outputs": [],
   "source": [
    "latent = 512\n",
    "lr = 0.0001\n",
    "BATCH = 1\n",
    "EPOCH = 100"
   ]
  },
  {
   "cell_type": "code",
   "execution_count": 3,
   "metadata": {},
   "outputs": [],
   "source": [
    "feature_path = '../MVAD/I3D_rgb_kinetics/train'\n",
    "with open('../MVAD/train_fine') as f:\n",
    "    files = f.readlines()\n",
    "    feature_files = list(map(lambda file: os.path.join(feature_path, str.strip(file) + '.npy'), files))\n",
    "    feature_files.extend(list(map(lambda file: os.path.join(feature_path + '_fliped', str.strip(file) + '.npy'), files)))\n",
    "dataset = ExtractedFeatureDatasetOnlyFeature(None ,feature_files=feature_files)\n",
    "dataloader = DataLoader(dataset, BATCH, True)"
   ]
  },
  {
   "cell_type": "code",
   "execution_count": 4,
   "metadata": {},
   "outputs": [],
   "source": [
    "device = torch.device('cuda:1')"
   ]
  },
  {
   "cell_type": "code",
   "execution_count": 5,
   "metadata": {
    "collapsed": true,
    "jupyter": {
     "outputs_hidden": true
    }
   },
   "outputs": [
    {
     "data": {
      "text/plain": [
       "Autoencoder(\n",
       "  (encoder_linear1): Linear(in_features=1024, out_features=512, bias=True)\n",
       "  (decoder_linear1): Linear(in_features=512, out_features=1024, bias=True)\n",
       ")"
      ]
     },
     "execution_count": 5,
     "metadata": {},
     "output_type": "execute_result"
    }
   ],
   "source": [
    "model = Autoencoder(512)\n",
    "model.to(device)\n",
    "model.train()"
   ]
  },
  {
   "cell_type": "code",
   "execution_count": 6,
   "metadata": {},
   "outputs": [],
   "source": [
    "optimizer = optim.Adam(model.parameters(), lr)\n",
    "criterion = nn.L1Loss()"
   ]
  },
  {
   "cell_type": "code",
   "execution_count": null,
   "metadata": {},
   "outputs": [
    {
     "name": "stdout",
     "output_type": "stream",
     "text": [
      "epoch 1 158.6s - train_loss: 0.034122 train_accuracy: 0.0000\n",
      "epoch 2 312.4s - train_loss: 0.027150 train_accuracy: 0.0000\n",
      "epoch 3 462.3s - train_loss: 0.026602 train_accuracy: 0.0000\n",
      "epoch 4 612.7s - train_loss: 0.026309 train_accuracy: 0.0000\n",
      "epoch 5 766.0s - train_loss: 0.026122 train_accuracy: 0.0000\n"
     ]
    }
   ],
   "source": [
    "start_time = time.time()\n",
    "for epoch in range(1, EPOCH + 1):\n",
    "    train_loss = 0\n",
    "    train_accuracy = 0\n",
    "    for batch, feature in enumerate(dataloader, start=1):\n",
    "        feature = feature.to(device)\n",
    "        out = model(feature)\n",
    "        loss = criterion(out, feature)\n",
    "        \n",
    "        optimizer.zero_grad()\n",
    "        loss.backward()\n",
    "        optimizer.step()\n",
    "        \n",
    "        accuracy = 0\n",
    "        train_loss += loss\n",
    "        train_accuracy += accuracy\n",
    "        \n",
    "    print('epoch {} {:.1f}s - train_loss: {:.6f} train_accuracy: {:.4f}'.format(epoch, time.time() - start_time, train_loss / batch, train_accuracy / batch))\n",
    "    if epoch % 10:\n",
    "        torch.save({'epoch': epoch,\n",
    "                    'model_state_dict': model.state_dict(),}, '../checkpoint/autoencoder{}'.format(epoch // 10))"
   ]
  },
  {
   "cell_type": "code",
   "execution_count": null,
   "metadata": {},
   "outputs": [],
   "source": []
  },
  {
   "cell_type": "code",
   "execution_count": null,
   "metadata": {},
   "outputs": [],
   "source": []
  }
 ],
 "metadata": {
  "kernelspec": {
   "display_name": "Python 3",
   "language": "python",
   "name": "python3"
  },
  "language_info": {
   "codemirror_mode": {
    "name": "ipython",
    "version": 3
   },
   "file_extension": ".py",
   "mimetype": "text/x-python",
   "name": "python",
   "nbconvert_exporter": "python",
   "pygments_lexer": "ipython3",
   "version": "3.7.3"
  }
 },
 "nbformat": 4,
 "nbformat_minor": 4
}
